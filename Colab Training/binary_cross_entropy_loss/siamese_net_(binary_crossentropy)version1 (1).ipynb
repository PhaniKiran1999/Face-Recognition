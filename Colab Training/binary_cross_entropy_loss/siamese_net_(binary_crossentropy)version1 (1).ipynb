{
  "nbformat": 4,
  "nbformat_minor": 0,
  "metadata": {
    "colab": {
      "name": "siamese_net_(binary_crossentropy)version1.ipynb",
      "provenance": [],
      "collapsed_sections": []
    },
    "kernelspec": {
      "name": "python3",
      "display_name": "Python 3"
    },
    "accelerator": "GPU"
  },
  "cells": [
    {
      "cell_type": "code",
      "metadata": {
        "id": "uD-DF6gPJGgN",
        "colab_type": "code",
        "outputId": "2d96cd62-6276-460d-a6ca-3394ee37e0fe",
        "colab": {
          "base_uri": "https://localhost:8080/",
          "height": 212
        }
      },
      "source": [
        "import os\n",
        "os.chdir('/content/drive/My Drive/FACE RECOGNITION TRAINING')\n",
        "os.listdir('/content/drive/My Drive/FACE RECOGNITION TRAINING')\n",
        "# os.mkdir('training_images')"
      ],
      "execution_count": 0,
      "outputs": [
        {
          "output_type": "execute_result",
          "data": {
            "text/plain": [
              "['vgg_face_weights.h5',\n",
              " 'facenet_weights.h5',\n",
              " 'inception_resnet_v1.py',\n",
              " 'training',\n",
              " '__pycache__',\n",
              " 'temp2',\n",
              " 'known_faces',\n",
              " 'facenet_BBT.h5',\n",
              " 'test_images',\n",
              " 'training_images',\n",
              " 'test_images (1)']"
            ]
          },
          "metadata": {
            "tags": []
          },
          "execution_count": 2
        }
      ]
    },
    {
      "cell_type": "code",
      "metadata": {
        "id": "up0P8p_DrBVO",
        "colab_type": "code",
        "outputId": "dda73f25-aa04-434d-a166-cff48863dafc",
        "colab": {
          "base_uri": "https://localhost:8080/",
          "height": 321
        }
      },
      "source": [
        "!pip install face_recognition"
      ],
      "execution_count": 0,
      "outputs": [
        {
          "output_type": "stream",
          "text": [
            "Collecting face_recognition\n",
            "  Downloading https://files.pythonhosted.org/packages/1e/95/f6c9330f54ab07bfa032bf3715c12455a381083125d8880c43cbe76bb3d0/face_recognition-1.3.0-py2.py3-none-any.whl\n",
            "Requirement already satisfied: Pillow in /usr/local/lib/python3.6/dist-packages (from face_recognition) (7.0.0)\n",
            "Collecting face-recognition-models>=0.3.0\n",
            "\u001b[?25l  Downloading https://files.pythonhosted.org/packages/cf/3b/4fd8c534f6c0d1b80ce0973d01331525538045084c73c153ee6df20224cf/face_recognition_models-0.3.0.tar.gz (100.1MB)\n",
            "\u001b[K     |████████████████████████████████| 100.2MB 42kB/s \n",
            "\u001b[?25hRequirement already satisfied: dlib>=19.7 in /usr/local/lib/python3.6/dist-packages (from face_recognition) (19.18.0)\n",
            "Requirement already satisfied: Click>=6.0 in /usr/local/lib/python3.6/dist-packages (from face_recognition) (7.1.2)\n",
            "Requirement already satisfied: numpy in /usr/local/lib/python3.6/dist-packages (from face_recognition) (1.18.4)\n",
            "Building wheels for collected packages: face-recognition-models\n",
            "  Building wheel for face-recognition-models (setup.py) ... \u001b[?25l\u001b[?25hdone\n",
            "  Created wheel for face-recognition-models: filename=face_recognition_models-0.3.0-py2.py3-none-any.whl size=100566172 sha256=5a019ae37679298781238ec681ee546fa334d9b3bf6947ce677bc7e210146826\n",
            "  Stored in directory: /root/.cache/pip/wheels/d2/99/18/59c6c8f01e39810415c0e63f5bede7d83dfb0ffc039865465f\n",
            "Successfully built face-recognition-models\n",
            "Installing collected packages: face-recognition-models, face-recognition\n",
            "Successfully installed face-recognition-1.3.0 face-recognition-models-0.3.0\n"
          ],
          "name": "stdout"
        }
      ]
    },
    {
      "cell_type": "code",
      "metadata": {
        "id": "FMB23NmgQY0p",
        "colab_type": "code",
        "colab": {}
      },
      "source": [
        "from keras.regularizers import l2\n",
        "from keras.optimizers import SGD,Adam\n",
        "from keras.losses import binary_crossentropy\n",
        "from keras.initializers import RandomNormal\n",
        "\n",
        "################\n",
        "from keras import layers\n",
        "from keras.layers import Input, Layer, Dense, Activation, ZeroPadding2D, BatchNormalization, Flatten, Conv2D, MaxPooling2D\n",
        "from keras.models import Model, load_model\n",
        "from keras.layers.core import Lambda, Flatten, Dense\n",
        "from keras.initializers import glorot_uniform\n",
        "from keras import backend as K"
      ],
      "execution_count": 0,
      "outputs": []
    },
    {
      "cell_type": "code",
      "metadata": {
        "id": "Mm4yTFf1QcfP",
        "colab_type": "code",
        "outputId": "35a96a04-9135-4881-8d07-ae7e6f7f27e7",
        "colab": {
          "base_uri": "https://localhost:8080/",
          "height": 72
        }
      },
      "source": [
        "import numpy.random as rng\n",
        "import numpy as np\n",
        "import os\n",
        "import pickle\n",
        "import matplotlib.pyplot as plt\n",
        "import seaborn as sns\n",
        "from sklearn.utils import shuffle\n",
        "%matplotlib inline"
      ],
      "execution_count": 0,
      "outputs": [
        {
          "output_type": "stream",
          "text": [
            "/usr/local/lib/python3.6/dist-packages/statsmodels/tools/_testing.py:19: FutureWarning: pandas.util.testing is deprecated. Use the functions in the public API at pandas.testing instead.\n",
            "  import pandas.util.testing as tm\n"
          ],
          "name": "stderr"
        }
      ]
    },
    {
      "cell_type": "code",
      "metadata": {
        "id": "46mXRPOIRG_G",
        "colab_type": "code",
        "colab": {}
      },
      "source": [
        "def create_model(input_shape):\n",
        "    X_input = Input(input_shape)\n",
        "\n",
        "    X = Conv2D(32, (3, 3), name = 'conv1', kernel_initializer = glorot_uniform(seed=0))(X_input)\n",
        "    X = BatchNormalization(axis = 3, name = 'bn_conv1')(X)\n",
        "    X = Activation('relu')(X)\n",
        "    X = MaxPooling2D((3, 3))(X)\n",
        "    \n",
        "    X = Conv2D(64, (3, 3), name = 'conv2', kernel_initializer = glorot_uniform(seed=0))(X)\n",
        "    X = BatchNormalization(axis = 3, name = 'bn_conv2')(X)\n",
        "    X = Activation('relu')(X)\n",
        "    X = MaxPooling2D((3, 3))(X)\n",
        "    \n",
        "    X = Conv2D(128, (3, 3), name = 'conv3', kernel_initializer = glorot_uniform(seed=0))(X)\n",
        "    X = BatchNormalization(axis = 3, name = 'bn_conv3')(X)\n",
        "    X = Activation('relu')(X)\n",
        "    X = MaxPooling2D((3, 3))(X)\n",
        "    \n",
        "    X = Conv2D(256, (1, 1), name = 'conv4', kernel_initializer = glorot_uniform(seed=0))(X)\n",
        "    X = BatchNormalization(axis = 3, name = 'bn_conv4')(X)\n",
        "    X = Activation('relu')(X)\n",
        "    \n",
        "    X = Flatten()(X)\n",
        "    X = Dense(256, activation='relu', name='fc1', kernel_initializer = glorot_uniform(seed=0))(X)\n",
        "    \n",
        "    return Model(inputs=[X_input], outputs=X) "
      ],
      "execution_count": 0,
      "outputs": []
    },
    {
      "cell_type": "code",
      "metadata": {
        "id": "MI_NTW1oRQi-",
        "colab_type": "code",
        "colab": {}
      },
      "source": [
        "IMAGE_SIZE = 96\n",
        "input_shape = (IMAGE_SIZE, IMAGE_SIZE, 1)\n",
        "left_input = Input(input_shape)\n",
        "right_input = Input(input_shape)\n",
        "\n",
        "convnet = create_model(input_shape)\n",
        "\n",
        "encoded_l = convnet(left_input)\n",
        "encoded_r = convnet(right_input)"
      ],
      "execution_count": 0,
      "outputs": []
    },
    {
      "cell_type": "code",
      "metadata": {
        "id": "QHr709LIWpLE",
        "colab_type": "code",
        "colab": {}
      },
      "source": [
        "L1_layer = Lambda(lambda tensors:K.abs(tensors[0] - tensors[1]))"
      ],
      "execution_count": 0,
      "outputs": []
    },
    {
      "cell_type": "code",
      "metadata": {
        "id": "LtyLXo4UWu1l",
        "colab_type": "code",
        "colab": {}
      },
      "source": [
        "L1_distance = L1_layer([encoded_l, encoded_r])\n",
        "prediction = Dense(1,activation='sigmoid',bias_initializer=RandomNormal(mean=0.5, stddev=1e-2))(L1_distance)"
      ],
      "execution_count": 0,
      "outputs": []
    },
    {
      "cell_type": "code",
      "metadata": {
        "id": "oBd5wFEpW6ye",
        "colab_type": "code",
        "colab": {}
      },
      "source": [
        "siamese_net = Model(inputs=[left_input,right_input],outputs=prediction)\n",
        "optimizer = Adam(0.00006)\n",
        "siamese_net.compile(loss=\"binary_crossentropy\",optimizer=optimizer, metrics=['accuracy'])"
      ],
      "execution_count": 0,
      "outputs": []
    },
    {
      "cell_type": "code",
      "metadata": {
        "id": "yqzWhKgoi-N6",
        "colab_type": "code",
        "colab": {}
      },
      "source": [
        "import os\n",
        "import cv2\n",
        "import numpy as np\n",
        "FRAME_THICKNESS = 3\n",
        "FONT_THICKNESS = 2\n",
        "TRAINING_FACES_DIR = \"training\"\n",
        "\n",
        "def zscore(x):\n",
        "  mean = np.mean(x)\n",
        "  std = np.std(x)\n",
        "  std_adj = np.maximum(std, 1.0 / np.sqrt(x.size))\n",
        "  y = np.multiply(np.subtract(x, mean), 1 / std_adj)\n",
        "  return y"
      ],
      "execution_count": 0,
      "outputs": []
    },
    {
      "cell_type": "code",
      "metadata": {
        "id": "yn-obBgRjmCy",
        "colab_type": "code",
        "outputId": "e18fb08b-5263-4e01-c531-8a7da86fdaed",
        "colab": {
          "base_uri": "https://localhost:8080/",
          "height": 35
        }
      },
      "source": [
        "print(\"loading faces\")\n",
        "\n",
        "faces = os.listdir(TRAINING_FACES_DIR)\n",
        "training_images = {}\n",
        "for name in os.listdir(TRAINING_FACES_DIR):\n",
        "\ttemp = []\n",
        "\tfor filename in os.listdir(f\"{TRAINING_FACES_DIR}/{name}\"):\n",
        "\t\timage = cv2.imread(f\"{TRAINING_FACES_DIR}/{name}/{filename}\")\n",
        "\t\timage = cv2.resize(image, input_shape[:-1])\n",
        "\t\timage = cv2.cvtColor(image, cv2.COLOR_RGB2GRAY) #cv2.COLOR_RGB2BGR\n",
        "\t\timage = np.expand_dims(image, axis=-1)\n",
        "\t\ttemp.append(zscore(image))\n",
        "\t\t# temp.append(np.around(image/255, decimals=5))\n",
        "\ttraining_images[name] = np.array(temp)"
      ],
      "execution_count": 0,
      "outputs": [
        {
          "output_type": "stream",
          "text": [
            "loading faces\n"
          ],
          "name": "stdout"
        }
      ]
    },
    {
      "cell_type": "code",
      "metadata": {
        "id": "PboT6TowAZbo",
        "colab_type": "code",
        "outputId": "6759cffb-5a48-4f5a-e193-4aa240b0fa39",
        "colab": {
          "base_uri": "https://localhost:8080/",
          "height": 35
        }
      },
      "source": [
        "print(\"loading validation faces\")\n",
        "VALIDATION_FACES_DIR = \"test_images (1)\"\n",
        "validation_faces = os.listdir(VALIDATION_FACES_DIR)\n",
        "val_images = {}\n",
        "for name in os.listdir(VALIDATION_FACES_DIR):\n",
        "\ttemp = []\n",
        "\tfor filename in os.listdir(f\"{VALIDATION_FACES_DIR}/{name}\"):\n",
        "\t\timage = cv2.imread(f\"{VALIDATION_FACES_DIR}/{name}/{filename}\")\n",
        "\t\timage = cv2.resize(image, input_shape[:-1])\n",
        "\t\timage = cv2.cvtColor(image, cv2.COLOR_RGB2GRAY) #cv2.COLOR_RGB2BGR\n",
        "\t\timage = np.expand_dims(image, axis=-1)\n",
        "\t\ttemp.append(zscore(image))\n",
        "\t\t# temp.append(np.around(image/255, decimals=5))\n",
        "\tval_images[name] = np.array(temp)"
      ],
      "execution_count": 0,
      "outputs": [
        {
          "output_type": "stream",
          "text": [
            "loading validation faces\n"
          ],
          "name": "stdout"
        }
      ]
    },
    {
      "cell_type": "code",
      "metadata": {
        "id": "hyST1uVtkkth",
        "colab_type": "code",
        "outputId": "8821d6da-c2a5-439d-8761-db3d30f489b2",
        "colab": {
          "base_uri": "https://localhost:8080/",
          "height": 35
        }
      },
      "source": [
        "training_images['sheldon'].shape"
      ],
      "execution_count": 0,
      "outputs": [
        {
          "output_type": "execute_result",
          "data": {
            "text/plain": [
              "(48, 96, 96, 1)"
            ]
          },
          "metadata": {
            "tags": []
          },
          "execution_count": 93
        }
      ]
    },
    {
      "cell_type": "code",
      "metadata": {
        "id": "vOMeYMlB0Llz",
        "colab_type": "code",
        "colab": {}
      },
      "source": [
        "def pairs_generator(batch_size):\n",
        "    y_val = np.zeros((batch_size, 1))\n",
        "    positives = np.zeros((batch_size, input_shape[0], input_shape[1], input_shape[2]))\n",
        "    negatives = np.zeros((batch_size, input_shape[0], input_shape[1], input_shape[2]))\n",
        "    while True:\n",
        "      i = 0\n",
        "      for i in range(batch_size//2):\n",
        "        positiveFace = faces[np.random.randint(len(faces))]\n",
        "        negativeFace = faces[np.random.randint(len(faces))]\n",
        "        while positiveFace == negativeFace:\n",
        "          negativeFace = faces[np.random.randint(len(faces))]\n",
        "\n",
        "        positives[i] =  training_images[positiveFace][np.random.randint(len(training_images[positiveFace]))]\n",
        "        # plt.imshow(positives[i])\n",
        "        # plt.show()\n",
        "        negatives[i] = training_images[negativeFace][np.random.randint(len(training_images[negativeFace]))]\n",
        "        # plt.imshow(negatives[i])\n",
        "        # plt.show()\n",
        "        y_val[i] = 0\n",
        "\n",
        "      for i in range(i, batch_size):\n",
        "        positiveFace = faces[np.random.randint(len(faces))]\n",
        "        negativeFace = faces[np.random.randint(len(faces))]\n",
        "        while positiveFace != negativeFace:\n",
        "              negativeFace = faces[np.random.randint(len(faces))]\n",
        "\n",
        "        positives[i] =  training_images[positiveFace][np.random.randint(len(training_images[positiveFace]))]\n",
        "        # plt.imshow(positives[i])\n",
        "        # plt.show()\n",
        "        negatives[i] = training_images[negativeFace][np.random.randint(len(training_images[negativeFace]))]\n",
        "        # plt.imshow(negatives[i])\n",
        "        # plt.show()\n",
        "        y_val[i] = 1\n",
        "\n",
        "        yield ([positives, negatives], y_val)"
      ],
      "execution_count": 0,
      "outputs": []
    },
    {
      "cell_type": "code",
      "metadata": {
        "id": "5sajFYu6BbZo",
        "colab_type": "code",
        "colab": {}
      },
      "source": [
        "def validation_set(n = 100):\n",
        "  y_val = np.zeros((n, 1))\n",
        "  positives = np.zeros((n, input_shape[0], input_shape[1], input_shape[2]))\n",
        "  negatives = np.zeros((n, input_shape[0], input_shape[1], input_shape[2]))\n",
        "  i = 0\n",
        "  for i in range(n//2):\n",
        "    positiveFace = faces[np.random.randint(len(faces))]\n",
        "    negativeFace = faces[np.random.randint(len(faces))]\n",
        "    while positiveFace == negativeFace:\n",
        "      negativeFace = faces[np.random.randint(len(faces))]\n",
        "\n",
        "    positives[i] =  val_images[positiveFace][np.random.randint(len(val_images[positiveFace]))]\n",
        "    # plt.imshow(positives[i])\n",
        "    # plt.show()\n",
        "    negatives[i] = val_images[negativeFace][np.random.randint(len(val_images[negativeFace]))]\n",
        "    # plt.imshow(negatives[i])\n",
        "    # plt.show()\n",
        "    y_val[i] = 0\n",
        "\n",
        "  for i in range(i, n):\n",
        "    positiveFace = faces[np.random.randint(len(faces))]\n",
        "    negativeFace = faces[np.random.randint(len(faces))]\n",
        "    while positiveFace != negativeFace:\n",
        "          negativeFace = faces[np.random.randint(len(faces))]\n",
        "\n",
        "    positives[i] =  val_images[positiveFace][np.random.randint(len(val_images[positiveFace]))]\n",
        "    # plt.imshow(positives[i])\n",
        "    # plt.show()\n",
        "    negatives[i] = val_images[negativeFace][np.random.randint(len(val_images[negativeFace]))]\n",
        "    # plt.imshow(negatives[i])\n",
        "    # plt.show()\n",
        "    y_val[i] = 1\n",
        "\n",
        "  return ([positives, negatives], y_val)"
      ],
      "execution_count": 0,
      "outputs": []
    },
    {
      "cell_type": "code",
      "metadata": {
        "id": "ZWXfXKbnB5Bv",
        "colab_type": "code",
        "colab": {}
      },
      "source": [
        "val = validation_set()"
      ],
      "execution_count": 0,
      "outputs": []
    },
    {
      "cell_type": "code",
      "metadata": {
        "id": "Vr-eE1QHCEKO",
        "colab_type": "code",
        "colab": {}
      },
      "source": [
        "x_val, y_val = val"
      ],
      "execution_count": 0,
      "outputs": []
    },
    {
      "cell_type": "code",
      "metadata": {
        "id": "yDkMIsCcSjXB",
        "colab_type": "code",
        "colab": {}
      },
      "source": [
        "def contrastive_loss(enc_1, enc2):\n",
        "  "
      ],
      "execution_count": 0,
      "outputs": []
    },
    {
      "cell_type": "code",
      "metadata": {
        "id": "ddYkqGUZLAxG",
        "colab_type": "code",
        "outputId": "26e540ab-f567-4479-9c63-20a77752a1ad",
        "colab": {
          "base_uri": "https://localhost:8080/",
          "height": 1000
        }
      },
      "source": [
        "generator = pairs_generator(batch_size=200)\n",
        "history = siamese_net.fit(generator,\n",
        "          epochs=50,\n",
        "          steps_per_epoch=50,\n",
        "          validation_data=val)"
      ],
      "execution_count": 0,
      "outputs": [
        {
          "output_type": "stream",
          "text": [
            "Epoch 1/50\n",
            "50/50 [==============================] - 17s 337ms/step - loss: 0.3111 - accuracy: 0.7689 - val_loss: 0.6840 - val_accuracy: 0.6600\n",
            "Epoch 2/50\n",
            "50/50 [==============================] - 17s 338ms/step - loss: 0.0793 - accuracy: 0.9836 - val_loss: 0.7311 - val_accuracy: 0.6300\n",
            "Epoch 3/50\n",
            "50/50 [==============================] - 17s 339ms/step - loss: 0.0485 - accuracy: 0.9950 - val_loss: 0.6799 - val_accuracy: 0.7200\n",
            "Epoch 4/50\n",
            "50/50 [==============================] - 17s 338ms/step - loss: 0.0596 - accuracy: 0.9867 - val_loss: 0.7319 - val_accuracy: 0.6900\n",
            "Epoch 5/50\n",
            "50/50 [==============================] - 17s 337ms/step - loss: 0.0438 - accuracy: 0.9970 - val_loss: 0.7049 - val_accuracy: 0.7300\n",
            "Epoch 6/50\n",
            "50/50 [==============================] - 17s 338ms/step - loss: 0.0571 - accuracy: 0.9867 - val_loss: 0.7582 - val_accuracy: 0.7200\n",
            "Epoch 7/50\n",
            "50/50 [==============================] - 17s 338ms/step - loss: 0.0429 - accuracy: 0.9961 - val_loss: 0.7317 - val_accuracy: 0.7300\n",
            "Epoch 8/50\n",
            "50/50 [==============================] - 17s 338ms/step - loss: 0.0493 - accuracy: 0.9871 - val_loss: 0.7396 - val_accuracy: 0.7200\n",
            "Epoch 9/50\n",
            "50/50 [==============================] - 17s 338ms/step - loss: 0.0361 - accuracy: 0.9980 - val_loss: 0.7209 - val_accuracy: 0.7300\n",
            "Epoch 10/50\n",
            "50/50 [==============================] - 17s 338ms/step - loss: 0.0517 - accuracy: 0.9900 - val_loss: 0.7087 - val_accuracy: 0.7600\n",
            "Epoch 11/50\n",
            "50/50 [==============================] - 17s 338ms/step - loss: 0.0374 - accuracy: 0.9964 - val_loss: 0.7118 - val_accuracy: 0.8000\n",
            "Epoch 12/50\n",
            "50/50 [==============================] - 17s 337ms/step - loss: 0.0273 - accuracy: 0.9949 - val_loss: 0.7140 - val_accuracy: 0.7900\n",
            "Epoch 13/50\n",
            "50/50 [==============================] - 17s 338ms/step - loss: 0.0246 - accuracy: 0.9978 - val_loss: 0.7733 - val_accuracy: 0.7100\n",
            "Epoch 14/50\n",
            "50/50 [==============================] - 17s 338ms/step - loss: 0.0471 - accuracy: 0.9899 - val_loss: 0.7420 - val_accuracy: 0.7400\n",
            "Epoch 15/50\n",
            "50/50 [==============================] - 17s 338ms/step - loss: 0.0338 - accuracy: 0.9958 - val_loss: 0.8071 - val_accuracy: 0.7400\n",
            "Epoch 16/50\n",
            "50/50 [==============================] - 17s 338ms/step - loss: 0.0248 - accuracy: 0.9955 - val_loss: 0.7844 - val_accuracy: 0.7700\n",
            "Epoch 17/50\n",
            "50/50 [==============================] - 17s 339ms/step - loss: 0.0243 - accuracy: 0.9971 - val_loss: 0.8060 - val_accuracy: 0.7700\n",
            "Epoch 18/50\n",
            "50/50 [==============================] - 17s 338ms/step - loss: 0.0349 - accuracy: 0.9944 - val_loss: 0.7973 - val_accuracy: 0.7600\n",
            "Epoch 19/50\n",
            "50/50 [==============================] - 17s 338ms/step - loss: 0.0335 - accuracy: 0.9949 - val_loss: 0.7772 - val_accuracy: 0.7800\n",
            "Epoch 20/50\n",
            "50/50 [==============================] - 17s 338ms/step - loss: 0.0240 - accuracy: 0.9977 - val_loss: 0.7754 - val_accuracy: 0.7600\n",
            "Epoch 21/50\n",
            "50/50 [==============================] - 17s 338ms/step - loss: 0.0267 - accuracy: 0.9949 - val_loss: 0.7355 - val_accuracy: 0.7700\n",
            "Epoch 22/50\n",
            "50/50 [==============================] - 17s 337ms/step - loss: 0.0136 - accuracy: 0.9984 - val_loss: 0.7080 - val_accuracy: 0.7600\n",
            "Epoch 23/50\n",
            "50/50 [==============================] - 17s 338ms/step - loss: 0.0339 - accuracy: 0.9950 - val_loss: 0.7341 - val_accuracy: 0.7800\n",
            "Epoch 24/50\n",
            "50/50 [==============================] - 17s 337ms/step - loss: 0.0205 - accuracy: 0.9987 - val_loss: 0.7455 - val_accuracy: 0.7500\n",
            "Epoch 25/50\n",
            "50/50 [==============================] - 17s 338ms/step - loss: 0.0434 - accuracy: 0.9935 - val_loss: 0.7438 - val_accuracy: 0.7900\n",
            "Epoch 26/50\n",
            "50/50 [==============================] - 17s 337ms/step - loss: 0.0190 - accuracy: 0.9986 - val_loss: 0.6921 - val_accuracy: 0.7900\n",
            "Epoch 27/50\n",
            "50/50 [==============================] - 17s 337ms/step - loss: 0.0355 - accuracy: 0.9950 - val_loss: 0.7411 - val_accuracy: 0.7800\n",
            "Epoch 28/50\n",
            "50/50 [==============================] - 17s 338ms/step - loss: 0.0229 - accuracy: 0.9985 - val_loss: 0.7225 - val_accuracy: 0.7600\n",
            "Epoch 29/50\n",
            "50/50 [==============================] - 17s 338ms/step - loss: 0.0272 - accuracy: 0.9955 - val_loss: 0.7728 - val_accuracy: 0.7400\n",
            "Epoch 30/50\n",
            "50/50 [==============================] - 17s 338ms/step - loss: 0.0206 - accuracy: 0.9983 - val_loss: 0.7507 - val_accuracy: 0.7600\n",
            "Epoch 31/50\n",
            "50/50 [==============================] - 17s 338ms/step - loss: 0.0246 - accuracy: 0.9975 - val_loss: 0.7468 - val_accuracy: 0.7600\n",
            "Epoch 32/50\n",
            "50/50 [==============================] - 17s 337ms/step - loss: 0.0162 - accuracy: 0.9984 - val_loss: 0.7254 - val_accuracy: 0.7800\n",
            "Epoch 33/50\n",
            "50/50 [==============================] - 17s 338ms/step - loss: 0.0249 - accuracy: 0.9972 - val_loss: 0.7490 - val_accuracy: 0.7500\n",
            "Epoch 34/50\n",
            "50/50 [==============================] - 17s 337ms/step - loss: 0.0124 - accuracy: 0.9985 - val_loss: 0.7490 - val_accuracy: 0.7500\n",
            "Epoch 35/50\n",
            "50/50 [==============================] - 17s 338ms/step - loss: 0.0249 - accuracy: 0.9965 - val_loss: 0.7887 - val_accuracy: 0.7600\n",
            "Epoch 36/50\n",
            "50/50 [==============================] - 17s 338ms/step - loss: 0.0182 - accuracy: 0.9979 - val_loss: 0.7420 - val_accuracy: 0.7600\n",
            "Epoch 37/50\n",
            "50/50 [==============================] - 17s 338ms/step - loss: 0.0204 - accuracy: 0.9973 - val_loss: 0.7980 - val_accuracy: 0.7700\n",
            "Epoch 38/50\n",
            "50/50 [==============================] - 17s 337ms/step - loss: 0.0187 - accuracy: 0.9980 - val_loss: 0.7749 - val_accuracy: 0.7700\n",
            "Epoch 39/50\n",
            "50/50 [==============================] - 17s 338ms/step - loss: 0.0249 - accuracy: 0.9986 - val_loss: 0.7553 - val_accuracy: 0.7800\n",
            "Epoch 40/50\n",
            "50/50 [==============================] - 17s 338ms/step - loss: 0.0240 - accuracy: 0.9979 - val_loss: 0.7841 - val_accuracy: 0.7600\n",
            "Epoch 41/50\n",
            "50/50 [==============================] - 17s 337ms/step - loss: 0.0243 - accuracy: 0.9977 - val_loss: 0.7876 - val_accuracy: 0.7700\n",
            "Epoch 42/50\n",
            "50/50 [==============================] - 17s 337ms/step - loss: 0.0147 - accuracy: 0.9982 - val_loss: 0.7567 - val_accuracy: 0.7900\n",
            "Epoch 43/50\n",
            "50/50 [==============================] - 17s 337ms/step - loss: 0.0295 - accuracy: 0.9960 - val_loss: 0.7043 - val_accuracy: 0.7700\n",
            "Epoch 44/50\n",
            "50/50 [==============================] - 17s 337ms/step - loss: 0.0166 - accuracy: 0.9981 - val_loss: 0.6818 - val_accuracy: 0.7900\n",
            "Epoch 45/50\n",
            "50/50 [==============================] - 17s 337ms/step - loss: 0.0219 - accuracy: 0.9971 - val_loss: 0.6306 - val_accuracy: 0.7900\n",
            "Epoch 46/50\n",
            "50/50 [==============================] - 17s 338ms/step - loss: 0.0199 - accuracy: 0.9981 - val_loss: 0.6227 - val_accuracy: 0.7600\n",
            "Epoch 47/50\n",
            "50/50 [==============================] - 17s 338ms/step - loss: 0.0200 - accuracy: 0.9975 - val_loss: 0.6302 - val_accuracy: 0.7600\n",
            "Epoch 48/50\n",
            "50/50 [==============================] - 17s 337ms/step - loss: 0.0149 - accuracy: 0.9983 - val_loss: 0.6429 - val_accuracy: 0.7800\n",
            "Epoch 49/50\n",
            "50/50 [==============================] - 17s 337ms/step - loss: 0.0137 - accuracy: 0.9988 - val_loss: 0.6819 - val_accuracy: 0.8000\n",
            "Epoch 50/50\n",
            "50/50 [==============================] - 17s 337ms/step - loss: 0.0161 - accuracy: 0.9983 - val_loss: 0.6596 - val_accuracy: 0.8100\n"
          ],
          "name": "stdout"
        }
      ]
    },
    {
      "cell_type": "code",
      "metadata": {
        "id": "rpZ6exo9SXNS",
        "colab_type": "code",
        "outputId": "a5bd3581-6a96-42d9-e609-0c0bec686e40",
        "colab": {
          "base_uri": "https://localhost:8080/",
          "height": 35
        }
      },
      "source": [
        "history.history.keys()"
      ],
      "execution_count": 0,
      "outputs": [
        {
          "output_type": "execute_result",
          "data": {
            "text/plain": [
              "dict_keys(['val_loss', 'val_accuracy', 'loss', 'accuracy'])"
            ]
          },
          "metadata": {
            "tags": []
          },
          "execution_count": 106
        }
      ]
    },
    {
      "cell_type": "code",
      "metadata": {
        "id": "kpfBr5XwuZxY",
        "colab_type": "code",
        "outputId": "09c10188-84ed-4481-a851-308f8d3a53d1",
        "colab": {
          "base_uri": "https://localhost:8080/",
          "height": 295
        }
      },
      "source": [
        "# summarize history for accuracy\n",
        "plt.plot(history.history['accuracy'])\n",
        "plt.plot(history.history['val_accuracy'])\n",
        "plt.title('model accuracy')\n",
        "plt.ylabel('accuracy')\n",
        "plt.xlabel('epoch')\n",
        "plt.legend(['train', 'test'], loc='upper left')\n",
        "plt.show()"
      ],
      "execution_count": 0,
      "outputs": [
        {
          "output_type": "display_data",
          "data": {
            "image/png": "[encoded data removed]",
            "text/plain": [
              "<Figure size 432x288 with 1 Axes>"
            ]
          },
          "metadata": {
            "tags": [],
            "needs_background": "light"
          }
        }
      ]
    },
    {
      "cell_type": "code",
      "metadata": {
        "id": "Epsx-ZbunQp0",
        "colab_type": "code",
        "outputId": "160a792e-8f9b-49ff-ad79-335d43eda94a",
        "colab": {
          "base_uri": "https://localhost:8080/",
          "height": 295
        }
      },
      "source": [
        "# summarize history for loss\n",
        "plt.plot(history.history['loss'])\n",
        "plt.plot(history.history['val_loss'])\n",
        "plt.title('model loss')\n",
        "plt.ylabel('loss')\n",
        "plt.xlabel('epoch')\n",
        "plt.legend(['train', 'test'], loc='upper left')\n",
        "plt.show()"
      ],
      "execution_count": 0,
      "outputs": [
        {
          "output_type": "display_data",
          "data": {
            "image/png": "[encoded data removed]",
            "text/plain": [
              "<Figure size 432x288 with 1 Axes>"
            ]
          },
          "metadata": {
            "tags": [],
            "needs_background": "light"
          }
        }
      ]
    },
    {
      "cell_type": "code",
      "metadata": {
        "id": "9flgMSzdVSmi",
        "colab_type": "code",
        "outputId": "d497beb6-7f2e-424c-e2cb-7e14b7f57416",
        "colab": {
          "base_uri": "https://localhost:8080/",
          "height": 1000
        }
      },
      "source": [
        "history2 = siamese_net.fit(generator,\n",
        "          epochs=50,\n",
        "          steps_per_epoch=50,\n",
        "          validation_data=val)"
      ],
      "execution_count": 0,
      "outputs": [
        {
          "output_type": "stream",
          "text": [
            "Epoch 1/50\n",
            "50/50 [==============================] - 17s 338ms/step - loss: 0.0232 - accuracy: 0.9978 - val_loss: 0.6217 - val_accuracy: 0.8300\n",
            "Epoch 2/50\n",
            "50/50 [==============================] - 17s 339ms/step - loss: 0.0145 - accuracy: 0.9984 - val_loss: 0.6449 - val_accuracy: 0.8100\n",
            "Epoch 3/50\n",
            "50/50 [==============================] - 17s 338ms/step - loss: 0.0115 - accuracy: 0.9987 - val_loss: 0.6445 - val_accuracy: 0.8200\n",
            "Epoch 4/50\n",
            "50/50 [==============================] - 17s 338ms/step - loss: 0.0166 - accuracy: 0.9982 - val_loss: 0.6535 - val_accuracy: 0.7600\n",
            "Epoch 5/50\n",
            "50/50 [==============================] - 17s 338ms/step - loss: 0.0192 - accuracy: 0.9982 - val_loss: 0.6466 - val_accuracy: 0.8200\n",
            "Epoch 6/50\n",
            "50/50 [==============================] - 17s 338ms/step - loss: 0.0145 - accuracy: 0.9980 - val_loss: 0.6327 - val_accuracy: 0.7800\n",
            "Epoch 7/50\n",
            "50/50 [==============================] - 17s 338ms/step - loss: 0.0123 - accuracy: 0.9985 - val_loss: 0.6719 - val_accuracy: 0.8000\n",
            "Epoch 8/50\n",
            "50/50 [==============================] - 17s 337ms/step - loss: 0.0134 - accuracy: 0.9983 - val_loss: 0.6895 - val_accuracy: 0.7900\n",
            "Epoch 9/50\n",
            "50/50 [==============================] - 17s 338ms/step - loss: 0.0182 - accuracy: 0.9975 - val_loss: 0.6897 - val_accuracy: 0.7900\n",
            "Epoch 10/50\n",
            "50/50 [==============================] - 17s 338ms/step - loss: 0.0139 - accuracy: 0.9983 - val_loss: 0.7333 - val_accuracy: 0.7800\n",
            "Epoch 11/50\n",
            "50/50 [==============================] - 17s 338ms/step - loss: 0.0155 - accuracy: 0.9981 - val_loss: 0.6905 - val_accuracy: 0.7900\n",
            "Epoch 12/50\n",
            "50/50 [==============================] - 17s 337ms/step - loss: 0.0178 - accuracy: 0.9980 - val_loss: 0.6664 - val_accuracy: 0.7700\n",
            "Epoch 13/50\n",
            "50/50 [==============================] - 17s 337ms/step - loss: 0.0204 - accuracy: 0.9979 - val_loss: 0.6445 - val_accuracy: 0.8100\n",
            "Epoch 14/50\n",
            "50/50 [==============================] - 17s 337ms/step - loss: 0.0156 - accuracy: 0.9985 - val_loss: 0.6213 - val_accuracy: 0.7800\n",
            "Epoch 15/50\n",
            "50/50 [==============================] - 17s 338ms/step - loss: 0.0214 - accuracy: 0.9985 - val_loss: 0.6304 - val_accuracy: 0.7900\n",
            "Epoch 16/50\n",
            "50/50 [==============================] - 17s 338ms/step - loss: 0.0175 - accuracy: 0.9984 - val_loss: 0.6779 - val_accuracy: 0.7800\n",
            "Epoch 17/50\n",
            "50/50 [==============================] - 17s 338ms/step - loss: 0.0269 - accuracy: 0.9963 - val_loss: 0.7163 - val_accuracy: 0.7700\n",
            "Epoch 18/50\n",
            "50/50 [==============================] - 17s 337ms/step - loss: 0.0179 - accuracy: 0.9981 - val_loss: 0.7159 - val_accuracy: 0.7900\n",
            "Epoch 19/50\n",
            "50/50 [==============================] - 17s 338ms/step - loss: 0.0294 - accuracy: 0.9969 - val_loss: 0.7199 - val_accuracy: 0.7900\n",
            "Epoch 20/50\n",
            "50/50 [==============================] - 17s 338ms/step - loss: 0.0115 - accuracy: 0.9990 - val_loss: 0.7148 - val_accuracy: 0.7900\n",
            "Epoch 21/50\n",
            "50/50 [==============================] - 17s 338ms/step - loss: 0.0283 - accuracy: 0.9960 - val_loss: 0.6931 - val_accuracy: 0.7900\n",
            "Epoch 22/50\n",
            "50/50 [==============================] - 17s 338ms/step - loss: 0.0132 - accuracy: 0.9984 - val_loss: 0.6485 - val_accuracy: 0.8100\n",
            "Epoch 23/50\n",
            "50/50 [==============================] - 17s 338ms/step - loss: 0.0167 - accuracy: 0.9982 - val_loss: 0.6020 - val_accuracy: 0.8100\n",
            "Epoch 24/50\n",
            "50/50 [==============================] - 17s 337ms/step - loss: 0.0111 - accuracy: 0.9987 - val_loss: 0.6377 - val_accuracy: 0.7900\n",
            "Epoch 25/50\n",
            "50/50 [==============================] - 17s 338ms/step - loss: 0.0174 - accuracy: 0.9980 - val_loss: 0.5883 - val_accuracy: 0.8200\n",
            "Epoch 26/50\n",
            "50/50 [==============================] - 17s 337ms/step - loss: 0.0182 - accuracy: 0.9981 - val_loss: 0.6204 - val_accuracy: 0.7800\n",
            "Epoch 27/50\n",
            "50/50 [==============================] - 17s 338ms/step - loss: 0.0130 - accuracy: 0.9987 - val_loss: 0.6890 - val_accuracy: 0.7900\n",
            "Epoch 28/50\n",
            "50/50 [==============================] - 17s 337ms/step - loss: 0.0133 - accuracy: 0.9984 - val_loss: 0.6518 - val_accuracy: 0.7900\n",
            "Epoch 29/50\n",
            "50/50 [==============================] - 17s 338ms/step - loss: 0.0207 - accuracy: 0.9971 - val_loss: 0.6865 - val_accuracy: 0.7900\n",
            "Epoch 30/50\n",
            "50/50 [==============================] - 17s 338ms/step - loss: 0.0159 - accuracy: 0.9986 - val_loss: 0.7458 - val_accuracy: 0.7600\n",
            "Epoch 31/50\n",
            "50/50 [==============================] - 17s 338ms/step - loss: 0.0212 - accuracy: 0.9975 - val_loss: 0.7516 - val_accuracy: 0.7500\n",
            "Epoch 32/50\n",
            "50/50 [==============================] - 17s 338ms/step - loss: 0.0118 - accuracy: 0.9985 - val_loss: 0.7518 - val_accuracy: 0.7200\n",
            "Epoch 33/50\n",
            "50/50 [==============================] - 17s 338ms/step - loss: 0.0152 - accuracy: 0.9972 - val_loss: 0.6717 - val_accuracy: 0.7600\n",
            "Epoch 34/50\n",
            "50/50 [==============================] - 17s 338ms/step - loss: 0.0125 - accuracy: 0.9986 - val_loss: 0.7554 - val_accuracy: 0.7300\n",
            "Epoch 35/50\n",
            "50/50 [==============================] - 17s 338ms/step - loss: 0.0350 - accuracy: 0.9958 - val_loss: 0.7438 - val_accuracy: 0.7800\n",
            "Epoch 36/50\n",
            "50/50 [==============================] - 17s 338ms/step - loss: 0.0178 - accuracy: 0.9985 - val_loss: 0.7751 - val_accuracy: 0.7300\n",
            "Epoch 37/50\n",
            "50/50 [==============================] - 17s 339ms/step - loss: 0.0181 - accuracy: 0.9984 - val_loss: 0.7466 - val_accuracy: 0.7400\n",
            "Epoch 38/50\n",
            "50/50 [==============================] - 17s 338ms/step - loss: 0.0143 - accuracy: 0.9988 - val_loss: 0.7478 - val_accuracy: 0.7300\n",
            "Epoch 39/50\n",
            "50/50 [==============================] - 17s 338ms/step - loss: 0.0225 - accuracy: 0.9973 - val_loss: 0.6782 - val_accuracy: 0.7800\n",
            "Epoch 40/50\n",
            "50/50 [==============================] - 17s 338ms/step - loss: 0.0167 - accuracy: 0.9977 - val_loss: 0.8153 - val_accuracy: 0.7400\n",
            "Epoch 41/50\n",
            "50/50 [==============================] - 17s 338ms/step - loss: 0.0153 - accuracy: 0.9984 - val_loss: 0.7204 - val_accuracy: 0.7600\n",
            "Epoch 42/50\n",
            "50/50 [==============================] - 17s 338ms/step - loss: 0.0233 - accuracy: 0.9977 - val_loss: 0.7387 - val_accuracy: 0.7500\n",
            "Epoch 43/50\n",
            "50/50 [==============================] - 17s 338ms/step - loss: 0.0374 - accuracy: 0.9956 - val_loss: 0.7347 - val_accuracy: 0.7800\n",
            "Epoch 44/50\n",
            "50/50 [==============================] - 17s 338ms/step - loss: 0.0202 - accuracy: 0.9981 - val_loss: 0.7543 - val_accuracy: 0.7400\n",
            "Epoch 45/50\n",
            "50/50 [==============================] - 17s 338ms/step - loss: 0.0127 - accuracy: 0.9986 - val_loss: 0.7331 - val_accuracy: 0.7400\n",
            "Epoch 46/50\n",
            "50/50 [==============================] - 17s 338ms/step - loss: 0.0123 - accuracy: 0.9990 - val_loss: 0.7818 - val_accuracy: 0.7500\n",
            "Epoch 47/50\n",
            "50/50 [==============================] - 17s 338ms/step - loss: 0.0162 - accuracy: 0.9985 - val_loss: 0.8210 - val_accuracy: 0.7300\n",
            "Epoch 48/50\n",
            "50/50 [==============================] - 17s 338ms/step - loss: 0.0168 - accuracy: 0.9981 - val_loss: 0.7809 - val_accuracy: 0.7500\n",
            "Epoch 49/50\n",
            "50/50 [==============================] - 17s 338ms/step - loss: 0.0245 - accuracy: 0.9962 - val_loss: 0.6868 - val_accuracy: 0.7800\n",
            "Epoch 50/50\n",
            "50/50 [==============================] - 17s 337ms/step - loss: 0.0152 - accuracy: 0.9985 - val_loss: 0.6863 - val_accuracy: 0.7900\n"
          ],
          "name": "stdout"
        }
      ]
    },
    {
      "cell_type": "code",
      "metadata": {
        "id": "ignVBViRm-kh",
        "colab_type": "code",
        "outputId": "014fc15e-9322-45a3-aec7-04e8d2fbcc15",
        "colab": {
          "base_uri": "https://localhost:8080/",
          "height": 295
        }
      },
      "source": [
        "# summarize history for accuracy\n",
        "plt.plot(history2.history['accuracy'])\n",
        "plt.plot(history2.history['val_accuracy'])\n",
        "plt.title('model accuracy')\n",
        "plt.ylabel('accuracy')\n",
        "plt.xlabel('epoch')\n",
        "plt.legend(['train', 'test'], loc='upper left')\n",
        "plt.show()"
      ],
      "execution_count": 0,
      "outputs": [
        {
          "output_type": "display_data",
          "data": {
            "image/png": "[encoded data removed]",
            "text/plain": [
              "<Figure size 432x288 with 1 Axes>"
            ]
          },
          "metadata": {
            "tags": [],
            "needs_background": "light"
          }
        }
      ]
    },
    {
      "cell_type": "code",
      "metadata": {
        "id": "Eie3UevpmQf_",
        "colab_type": "code",
        "outputId": "5dd8ab0a-7a85-4adf-e794-9eebb2c9da88",
        "colab": {
          "base_uri": "https://localhost:8080/",
          "height": 295
        }
      },
      "source": [
        "import matplotlib.pyplot as plt\n",
        "# summarize history for loss\n",
        "plt.plot(history2.history['loss'])\n",
        "plt.plot(history2.history['val_loss'])\n",
        "plt.title('model loss')\n",
        "plt.ylabel('loss')\n",
        "plt.xlabel('epoch')\n",
        "plt.legend(['train', 'val'], loc='upper left')\n",
        "plt.show()"
      ],
      "execution_count": 0,
      "outputs": [
        {
          "output_type": "display_data",
          "data": {
            "image/png": "[encoded data removed]",
            "text/plain": [
              "<Figure size 432x288 with 1 Axes>"
            ]
          },
          "metadata": {
            "tags": [],
            "needs_background": "light"
          }
        }
      ]
    },
    {
      "cell_type": "code",
      "metadata": {
        "id": "FvVnBqtDVShG",
        "colab_type": "code",
        "outputId": "cf4e029f-348c-4881-ea60-09cdb9b53dfd",
        "colab": {
          "base_uri": "https://localhost:8080/",
          "height": 799
        }
      },
      "source": [
        "convnet.summary()"
      ],
      "execution_count": 0,
      "outputs": [
        {
          "output_type": "stream",
          "text": [
            "Model: \"model_8\"\n",
            "_________________________________________________________________\n",
            "Layer (type)                 Output Shape              Param #   \n",
            "=================================================================\n",
            "input_18 (InputLayer)        (None, 96, 96, 1)         0         \n",
            "_________________________________________________________________\n",
            "conv1 (Conv2D)               (None, 94, 94, 32)        320       \n",
            "_________________________________________________________________\n",
            "bn_conv1 (BatchNormalization (None, 94, 94, 32)        128       \n",
            "_________________________________________________________________\n",
            "activation_12 (Activation)   (None, 94, 94, 32)        0         \n",
            "_________________________________________________________________\n",
            "max_pooling2d_10 (MaxPooling (None, 31, 31, 32)        0         \n",
            "_________________________________________________________________\n",
            "conv2 (Conv2D)               (None, 29, 29, 64)        18496     \n",
            "_________________________________________________________________\n",
            "bn_conv2 (BatchNormalization (None, 29, 29, 64)        256       \n",
            "_________________________________________________________________\n",
            "activation_13 (Activation)   (None, 29, 29, 64)        0         \n",
            "_________________________________________________________________\n",
            "max_pooling2d_11 (MaxPooling (None, 9, 9, 64)          0         \n",
            "_________________________________________________________________\n",
            "conv3 (Conv2D)               (None, 7, 7, 128)         73856     \n",
            "_________________________________________________________________\n",
            "bn_conv3 (BatchNormalization (None, 7, 7, 128)         512       \n",
            "_________________________________________________________________\n",
            "activation_14 (Activation)   (None, 7, 7, 128)         0         \n",
            "_________________________________________________________________\n",
            "max_pooling2d_12 (MaxPooling (None, 2, 2, 128)         0         \n",
            "_________________________________________________________________\n",
            "conv4 (Conv2D)               (None, 2, 2, 256)         33024     \n",
            "_________________________________________________________________\n",
            "bn_conv4 (BatchNormalization (None, 2, 2, 256)         1024      \n",
            "_________________________________________________________________\n",
            "activation_15 (Activation)   (None, 2, 2, 256)         0         \n",
            "_________________________________________________________________\n",
            "flatten_4 (Flatten)          (None, 1024)              0         \n",
            "_________________________________________________________________\n",
            "fc1 (Dense)                  (None, 256)               262400    \n",
            "=================================================================\n",
            "Total params: 390,016\n",
            "Trainable params: 389,056\n",
            "Non-trainable params: 960\n",
            "_________________________________________________________________\n"
          ],
          "name": "stdout"
        }
      ]
    },
    {
      "cell_type": "code",
      "metadata": {
        "id": "twqdSxPWa7O2",
        "colab_type": "code",
        "outputId": "680a888c-9806-4631-9d12-a4ed49428aed",
        "colab": {
          "base_uri": "https://localhost:8080/",
          "height": 372
        }
      },
      "source": [
        "siamese_net.summary()"
      ],
      "execution_count": 0,
      "outputs": [
        {
          "output_type": "stream",
          "text": [
            "Model: \"model_9\"\n",
            "__________________________________________________________________________________________________\n",
            "Layer (type)                    Output Shape         Param #     Connected to                     \n",
            "==================================================================================================\n",
            "input_16 (InputLayer)           (None, 96, 96, 1)    0                                            \n",
            "__________________________________________________________________________________________________\n",
            "input_17 (InputLayer)           (None, 96, 96, 1)    0                                            \n",
            "__________________________________________________________________________________________________\n",
            "model_8 (Model)                 (None, 256)          390016      input_16[0][0]                   \n",
            "                                                                 input_17[0][0]                   \n",
            "__________________________________________________________________________________________________\n",
            "lambda_2 (Lambda)               (None, 256)          0           model_8[1][0]                    \n",
            "                                                                 model_8[2][0]                    \n",
            "__________________________________________________________________________________________________\n",
            "dense_4 (Dense)                 (None, 1)            257         lambda_2[0][0]                   \n",
            "==================================================================================================\n",
            "Total params: 390,273\n",
            "Trainable params: 389,313\n",
            "Non-trainable params: 960\n",
            "__________________________________________________________________________________________________\n"
          ],
          "name": "stdout"
        }
      ]
    },
    {
      "cell_type": "code",
      "metadata": {
        "id": "gt3A5qNBbNHu",
        "colab_type": "code",
        "colab": {}
      },
      "source": [
        "convnet.save(\"/content/drive/My Drive/FACE RECOGNITION TRAINING/siamese_net_bce.h5\")"
      ],
      "execution_count": 0,
      "outputs": []
    },
    {
      "cell_type": "code",
      "metadata": {
        "id": "OROFhqtEbNBG",
        "colab_type": "code",
        "colab": {}
      },
      "source": [
        "convnet.save(\"/content/drive/My Drive/FACE RECOGNITION TRAINING/training_images/siamese_net_bce.h5\")"
      ],
      "execution_count": 0,
      "outputs": []
    },
    {
      "cell_type": "code",
      "metadata": {
        "id": "S37Jms2XgyD-",
        "colab_type": "code",
        "outputId": "cfc6ffa3-33f4-4251-8866-e331d0f3aaeb",
        "colab": {
          "base_uri": "https://localhost:8080/",
          "height": 799
        }
      },
      "source": [
        "convnet.summary()"
      ],
      "execution_count": 0,
      "outputs": [
        {
          "output_type": "stream",
          "text": [
            "Model: \"model_8\"\n",
            "_________________________________________________________________\n",
            "Layer (type)                 Output Shape              Param #   \n",
            "=================================================================\n",
            "input_18 (InputLayer)        (None, 96, 96, 1)         0         \n",
            "_________________________________________________________________\n",
            "conv1 (Conv2D)               (None, 94, 94, 32)        320       \n",
            "_________________________________________________________________\n",
            "bn_conv1 (BatchNormalization (None, 94, 94, 32)        128       \n",
            "_________________________________________________________________\n",
            "activation_12 (Activation)   (None, 94, 94, 32)        0         \n",
            "_________________________________________________________________\n",
            "max_pooling2d_10 (MaxPooling (None, 31, 31, 32)        0         \n",
            "_________________________________________________________________\n",
            "conv2 (Conv2D)               (None, 29, 29, 64)        18496     \n",
            "_________________________________________________________________\n",
            "bn_conv2 (BatchNormalization (None, 29, 29, 64)        256       \n",
            "_________________________________________________________________\n",
            "activation_13 (Activation)   (None, 29, 29, 64)        0         \n",
            "_________________________________________________________________\n",
            "max_pooling2d_11 (MaxPooling (None, 9, 9, 64)          0         \n",
            "_________________________________________________________________\n",
            "conv3 (Conv2D)               (None, 7, 7, 128)         73856     \n",
            "_________________________________________________________________\n",
            "bn_conv3 (BatchNormalization (None, 7, 7, 128)         512       \n",
            "_________________________________________________________________\n",
            "activation_14 (Activation)   (None, 7, 7, 128)         0         \n",
            "_________________________________________________________________\n",
            "max_pooling2d_12 (MaxPooling (None, 2, 2, 128)         0         \n",
            "_________________________________________________________________\n",
            "conv4 (Conv2D)               (None, 2, 2, 256)         33024     \n",
            "_________________________________________________________________\n",
            "bn_conv4 (BatchNormalization (None, 2, 2, 256)         1024      \n",
            "_________________________________________________________________\n",
            "activation_15 (Activation)   (None, 2, 2, 256)         0         \n",
            "_________________________________________________________________\n",
            "flatten_4 (Flatten)          (None, 1024)              0         \n",
            "_________________________________________________________________\n",
            "fc1 (Dense)                  (None, 256)               262400    \n",
            "=================================================================\n",
            "Total params: 390,016\n",
            "Trainable params: 389,056\n",
            "Non-trainable params: 960\n",
            "_________________________________________________________________\n"
          ],
          "name": "stdout"
        }
      ]
    },
    {
      "cell_type": "code",
      "metadata": {
        "id": "6Q_RzVTrNPSy",
        "colab_type": "code",
        "outputId": "0128992f-056e-4572-81be-34b434302b91",
        "colab": {
          "base_uri": "https://localhost:8080/",
          "height": 35
        }
      },
      "source": [
        "IMAGE_SIZE"
      ],
      "execution_count": 0,
      "outputs": [
        {
          "output_type": "execute_result",
          "data": {
            "text/plain": [
              "96"
            ]
          },
          "metadata": {
            "tags": []
          },
          "execution_count": 98
        }
      ]
    },
    {
      "cell_type": "code",
      "metadata": {
        "id": "lyopOaYfqeJs",
        "colab_type": "code",
        "outputId": "33cc3d79-222d-45f4-abeb-1485835fc649",
        "colab": {
          "base_uri": "https://localhost:8080/",
          "height": 35
        }
      },
      "source": [
        "import face_recognition\n",
        "KNOWN_FACES_DIR = \"known_faces\"\n",
        "MODEL = \"hog\" #cnn\n",
        "\n",
        "print(\"loading known faces\")\n",
        "known_faces = []\n",
        "known_names = []\n",
        "\n",
        "for name in os.listdir(KNOWN_FACES_DIR):\n",
        "\tfor filename in os.listdir(f\"{KNOWN_FACES_DIR}/{name}\"):\n",
        "\t\timage = face_recognition.load_image_file(f\"{KNOWN_FACES_DIR}/{name}/{filename}\")\n",
        "\t\tface_locations = face_recognition.face_locations(image, model=MODEL)\n",
        "\t\tfor top, right, bottom, left in face_locations:\n",
        "\t\t\timage = cv2.resize(np.array(image[top:bottom ,left:right]),(IMAGE_SIZE, IMAGE_SIZE))\n",
        "\t\t\timage = cv2.cvtColor(image, cv2.COLOR_RGB2GRAY)\n",
        "\t\t\timage = np.expand_dims(image, axis=0)\n",
        "\t\t\timage = np.expand_dims(image, axis=-1)\n",
        "\t\t\tencoding = convnet.predict(zscore(image))\t\t\n",
        "\t\tknown_faces.append(encoding)\n",
        "\t\tknown_names.append(name)"
      ],
      "execution_count": 0,
      "outputs": [
        {
          "output_type": "stream",
          "text": [
            "loading known faces\n"
          ],
          "name": "stdout"
        }
      ]
    },
    {
      "cell_type": "code",
      "metadata": {
        "id": "fCBK4yBGr1bG",
        "colab_type": "code",
        "colab": {}
      },
      "source": [
        "def testing():\n",
        "\tprint('testing')\n",
        "\tpositive = 0\n",
        "\tnegetive = 0\n",
        "\ttest_dir = os.listdir('test_images (1)')\n",
        "\tfor name in test_dir:\n",
        "\t\ttest_imgs = os.listdir(f'test_images (1)/{name}')\n",
        "\t\tfor test_img in test_imgs:\n",
        "\t\t\timage = cv2.imread(f'test_images (1)/{name}/{test_img}')\n",
        "\t\t\timage = cv2.resize(image, (IMAGE_SIZE, IMAGE_SIZE))\n",
        "\t\t\timage = cv2.cvtColor(image, cv2.COLOR_RGB2GRAY)\n",
        "\t\t\timage = np.expand_dims(image, axis=0)\n",
        "\t\t\timage = np.expand_dims(image, axis=-1)\n",
        "\t\t\timage = zscore(image)\n",
        "\t\t\tencoding = convnet.predict(image)\n",
        "\t\t\tresults = [np.sqrt(np.sum(np.square(known_faces[i]-encoding))) for i in range(len(known_faces))]\n",
        "\t\t\tmatch = known_names[results.index(min(results))]\n",
        "\t\t\tif(match == name):\n",
        "\t\t\t\tpositive += 1\n",
        "\t\t\telse:\n",
        "\t\t\t\tnegetive += 1\n",
        "\t\t\tprint(f'{name}/{test_img}',match, min(results))\n",
        "\tprint('accuracy :',positive/(positive+negetive))"
      ],
      "execution_count": 0,
      "outputs": []
    },
    {
      "cell_type": "code",
      "metadata": {
        "id": "W9M6419Zsj3G",
        "colab_type": "code",
        "outputId": "90636638-3417-4eae-8025-0d4c297422dd",
        "colab": {
          "base_uri": "https://localhost:8080/",
          "height": 1000
        }
      },
      "source": [
        "testing()"
      ],
      "execution_count": 0,
      "outputs": [
        {
          "output_type": "stream",
          "text": [
            "testing\n",
            "sheldon/2.jpg sheldon 11.41344\n",
            "sheldon/10.jpg sheldon 14.018492\n",
            "sheldon/9.jpg sheldon 14.704173\n",
            "sheldon/5.jpg raj 12.692605\n",
            "sheldon/8.jpg sheldon 14.24389\n",
            "sheldon/6.jpg sheldon 11.549339\n",
            "sheldon/7.jpg amy 13.355894\n",
            "sheldon/4.jpg sheldon 12.958777\n",
            "sheldon/1.jpg sheldon 15.597476\n",
            "sheldon/111.jpg sheldon 12.213349\n",
            "sheldon/668.jpg sheldon 12.964179\n",
            "sheldon/47.jpg sheldon 11.160807\n",
            "sheldon/109.jpg sheldon 13.65956\n",
            "sheldon/121.jpg sheldon 12.238484\n",
            "sheldon/161.jpg sheldon 12.878479\n",
            "sheldon/124.jpg sheldon 14.713728\n",
            "sheldon/126.jpg sheldon 12.502757\n",
            "sheldon/127.jpg sheldon 13.582563\n",
            "penny/23.jpg penny 14.036645\n",
            "penny/21.jpg penny 13.744613\n",
            "penny/22.jpg penny 14.02838\n",
            "penny/25.jpg sheldon 14.30464\n",
            "penny/27.jpg penny 14.338771\n",
            "penny/24.jpg penny 14.172252\n",
            "penny/26.jpg amy 14.398666\n",
            "penny/28.jpg penny 13.430858\n",
            "penny/29.jpg amy 14.371058\n",
            "penny/30.jpg raj 15.3635435\n",
            "penny/penny.jpg penny 13.381083\n",
            "penny/755.jpg penny 12.182626\n",
            "penny/206.jpg sheldon 13.414115\n",
            "penny/269.jpg penny 13.171444\n",
            "penny/123.jpg penny 13.018684\n",
            "penny/128.jpg penny 12.647937\n",
            "penny/129.jpg penny 10.378819\n",
            "penny/131.jpg sheldon 12.701948\n",
            "howard/2278.jpg howard 10.672996\n",
            "howard/howard.jpg howard 10.703138\n",
            "howard/6.jpg howard 12.387623\n",
            "howard/96.jpg howard 9.360733\n",
            "howard/135.jpg howard 2.5648408\n",
            "howard/264.jpg howard 10.673586\n",
            "howard/323.jpg howard 14.707821\n",
            "howard/584.jpg howard 10.961717\n",
            "howard/589.jpg howard 13.583968\n",
            "howard/18.jpg howard 10.618459\n",
            "howard/28.jpg sheldon 13.68159\n",
            "howard/58.jpg howard 9.754745\n",
            "lenord/13.jpg amy 12.190655\n",
            "lenord/14.jpg amy 12.61408\n",
            "lenord/11.jpg lenord 19.705173\n",
            "lenord/15.jpg lenord 13.977274\n",
            "lenord/12.jpg lenord 13.915136\n",
            "lenord/17.jpg lenord 9.7026\n",
            "lenord/20.jpg lenord 17.04732\n",
            "lenord/18.jpg lenord 12.934827\n",
            "lenord/19.jpg lenord 20.231546\n",
            "lenord/16.jpg amy 14.763496\n",
            "lenord/3.jpg lenord 13.367864\n",
            "lenord/307.jpg raj 12.128043\n",
            "lenord/364.jpg amy 12.24347\n",
            "lenord/372.jpg lenord 13.903672\n",
            "lenord/130.jpg amy 10.84218\n",
            "raj/34.jpg raj 14.201078\n",
            "raj/32.jpg raj 11.437098\n",
            "raj/31.jpg amy 12.465795\n",
            "raj/33.jpg sheldon 14.285186\n",
            "raj/36.jpg sheldon 11.268389\n",
            "raj/35.jpg raj 9.179666\n",
            "raj/38.jpg raj 12.781672\n",
            "raj/37.jpg raj 12.665697\n",
            "raj/40.jpg sheldon 12.828956\n",
            "raj/39.jpg raj 11.995691\n",
            "raj/157.jpg raj 2.8847415\n",
            "raj/17.jpg raj 10.592296\n",
            "raj/53.jpg raj 11.909599\n",
            "raj/57.jpg raj 11.670493\n",
            "accuracy : 0.7532467532467533\n"
          ],
          "name": "stdout"
        }
      ]
    },
    {
      "cell_type": "code",
      "metadata": {
        "id": "td5qFK3St4Cc",
        "colab_type": "code",
        "colab": {}
      },
      "source": [
        ""
      ],
      "execution_count": 0,
      "outputs": []
    },
    {
      "cell_type": "code",
      "metadata": {
        "id": "VGiH9zM0cl2T",
        "colab_type": "code",
        "colab": {}
      },
      "source": [
        ""
      ],
      "execution_count": 0,
      "outputs": []
    },
    {
      "cell_type": "code",
      "metadata": {
        "id": "2VokdTRzdFj_",
        "colab_type": "code",
        "colab": {}
      },
      "source": [
        "# https://keras.io/examples/mnist_siamese/\n",
        "# https://jdhao.github.io/2017/03/13/some_loss_and_explanations/\n",
        "# https://vitalab.github.io/article/2019/05/15/contrastiveLoss.html"
      ],
      "execution_count": 0,
      "outputs": []
    },
    {
      "cell_type": "code",
      "metadata": {
        "id": "v7u4-IKFlamO",
        "colab_type": "code",
        "colab": {}
      },
      "source": [
        ""
      ],
      "execution_count": 0,
      "outputs": []
    }
  ]
}