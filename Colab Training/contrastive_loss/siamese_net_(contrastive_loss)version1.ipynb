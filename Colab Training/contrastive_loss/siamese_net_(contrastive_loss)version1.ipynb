{
  "nbformat": 4,
  "nbformat_minor": 0,
  "metadata": {
    "colab": {
      "name": "siamese_net_(contrastive_loss)version1.ipynb",
      "provenance": [],
      "collapsed_sections": []
    },
    "kernelspec": {
      "name": "python3",
      "display_name": "Python 3"
    },
    "accelerator": "GPU"
  },
  "cells": [
    {
      "cell_type": "code",
      "metadata": {
        "id": "uD-DF6gPJGgN",
        "colab_type": "code",
        "outputId": "b9dcb18c-9624-45d9-ca08-d10e797d4b4c",
        "colab": {
          "base_uri": "https://localhost:8080/",
          "height": 266
        }
      },
      "source": [
        "import os\n",
        "os.chdir('/content/drive/My Drive/FACE RECOGNITION TRAINING')\n",
        "os.listdir('/content/drive/My Drive/FACE RECOGNITION TRAINING')\n",
        "# os.mkdir('training_images')"
      ],
      "execution_count": 0,
      "outputs": [
        {
          "output_type": "execute_result",
          "data": {
            "text/plain": [
              "['vgg_face_weights.h5',\n",
              " 'facenet_weights.h5',\n",
              " 'inception_resnet_v1.py',\n",
              " 'training',\n",
              " '__pycache__',\n",
              " 'temp2',\n",
              " 'known_faces',\n",
              " 'facenet_BBT.h5',\n",
              " 'test_images',\n",
              " 'training_images',\n",
              " 'test_images (1)',\n",
              " 'siamese_net_bce.h5',\n",
              " 'validation_images',\n",
              " 'siamese_net_con_loss.h5']"
            ]
          },
          "metadata": {
            "tags": []
          },
          "execution_count": 1
        }
      ]
    },
    {
      "cell_type": "code",
      "metadata": {
        "id": "up0P8p_DrBVO",
        "colab_type": "code",
        "outputId": "75b3af84-750a-45a5-861b-2e0e6b072e17",
        "colab": {
          "base_uri": "https://localhost:8080/",
          "height": 124
        }
      },
      "source": [
        "!pip install face_recognition"
      ],
      "execution_count": 0,
      "outputs": [
        {
          "output_type": "stream",
          "text": [
            "Requirement already satisfied: face_recognition in /usr/local/lib/python3.6/dist-packages (1.3.0)\n",
            "Requirement already satisfied: dlib>=19.7 in /usr/local/lib/python3.6/dist-packages (from face_recognition) (19.18.0)\n",
            "Requirement already satisfied: numpy in /usr/local/lib/python3.6/dist-packages (from face_recognition) (1.18.4)\n",
            "Requirement already satisfied: Pillow in /usr/local/lib/python3.6/dist-packages (from face_recognition) (7.0.0)\n",
            "Requirement already satisfied: face-recognition-models>=0.3.0 in /usr/local/lib/python3.6/dist-packages (from face_recognition) (0.3.0)\n",
            "Requirement already satisfied: Click>=6.0 in /usr/local/lib/python3.6/dist-packages (from face_recognition) (7.1.2)\n"
          ],
          "name": "stdout"
        }
      ]
    },
    {
      "cell_type": "code",
      "metadata": {
        "id": "FMB23NmgQY0p",
        "colab_type": "code",
        "outputId": "57ef4f5f-5c3a-4f6a-c972-0bea0a01ff9c",
        "colab": {
          "base_uri": "https://localhost:8080/",
          "height": 35
        }
      },
      "source": [
        "from keras.regularizers import l2\n",
        "from keras.optimizers import SGD,Adam\n",
        "from keras.losses import binary_crossentropy\n",
        "from keras.initializers import RandomNormal\n",
        "\n",
        "################\n",
        "from keras import layers\n",
        "from keras.layers import Input, Layer, Dense, Activation, ZeroPadding2D, BatchNormalization, Flatten, Conv2D, MaxPooling2D, Dropout\n",
        "from keras.models import Model, load_model\n",
        "from keras.layers.core import Lambda, Flatten, Dense\n",
        "from keras.initializers import glorot_uniform\n",
        "from keras import backend as K"
      ],
      "execution_count": 0,
      "outputs": [
        {
          "output_type": "stream",
          "text": [
            "Using TensorFlow backend.\n"
          ],
          "name": "stderr"
        }
      ]
    },
    {
      "cell_type": "code",
      "metadata": {
        "id": "Mm4yTFf1QcfP",
        "colab_type": "code",
        "outputId": "365718b0-45b8-4f8a-b206-1f36d083c2b1",
        "colab": {
          "base_uri": "https://localhost:8080/",
          "height": 72
        }
      },
      "source": [
        "import numpy.random as rng\n",
        "import numpy as np\n",
        "import os\n",
        "import pickle\n",
        "import matplotlib.pyplot as plt\n",
        "import seaborn as sns\n",
        "from sklearn.utils import shuffle\n",
        "%matplotlib inline"
      ],
      "execution_count": 0,
      "outputs": [
        {
          "output_type": "stream",
          "text": [
            "/usr/local/lib/python3.6/dist-packages/statsmodels/tools/_testing.py:19: FutureWarning: pandas.util.testing is deprecated. Use the functions in the public API at pandas.testing instead.\n",
            "  import pandas.util.testing as tm\n"
          ],
          "name": "stderr"
        }
      ]
    },
    {
      "cell_type": "code",
      "metadata": {
        "id": "46mXRPOIRG_G",
        "colab_type": "code",
        "colab": {}
      },
      "source": [
        "def create_model(input_shape):\n",
        "    X_input = Input(input_shape)\n",
        "\n",
        "    X = Conv2D(32, (3, 3), name = 'conv1', kernel_initializer = glorot_uniform(seed=0))(X_input)\n",
        "    X = BatchNormalization(axis = 3, name = 'bn_conv1')(X)\n",
        "    X = Conv2D(32, (3, 3), name = 'conv2', kernel_initializer = glorot_uniform(seed=0))(X_input)\n",
        "    X = BatchNormalization(axis = 3, name = 'bn_conv2')(X)\n",
        "    X = Activation('relu')(X)\n",
        "    X = MaxPooling2D((3, 3))(X)\n",
        "    \n",
        "    X = Conv2D(64, (3, 3), name = 'conv3', kernel_initializer = glorot_uniform(seed=0))(X)\n",
        "    X = BatchNormalization(axis = 3, name = 'bn_conv3')(X)\n",
        "    X = Conv2D(64, (3, 3), name = 'conv4', kernel_initializer = glorot_uniform(seed=0))(X)\n",
        "    X = BatchNormalization(axis = 3, name = 'bn_conv4')(X)\n",
        "    X = Activation('relu')(X)\n",
        "    X = MaxPooling2D((3, 3))(X)\n",
        "    \n",
        "    X = Conv2D(128, (3, 3), name = 'conv5', kernel_initializer = glorot_uniform(seed=0))(X)\n",
        "    X = BatchNormalization(axis = 3, name = 'bn_conv5')(X)\n",
        "    X = Activation('relu')(X)\n",
        "    X = MaxPooling2D((3, 3))(X)\n",
        "    X = Dropout(0.2)(X)\n",
        "    \n",
        "    X = Conv2D(256, (1, 1), name = 'conv6', kernel_initializer = glorot_uniform(seed=0))(X)\n",
        "    X = BatchNormalization(axis = 3, name = 'bn_conv6')(X)\n",
        "    X = Activation('relu')(X)\n",
        "    X = Dropout(0.3)(X)\n",
        "    \n",
        "    X = Flatten()(X)\n",
        "    X = Dense(256, activation='relu', name='fc1', kernel_initializer = glorot_uniform(seed=0))(X)\n",
        "    \n",
        "    return Model(inputs=[X_input], outputs=X) "
      ],
      "execution_count": 0,
      "outputs": []
    },
    {
      "cell_type": "code",
      "metadata": {
        "id": "MI_NTW1oRQi-",
        "colab_type": "code",
        "colab": {}
      },
      "source": [
        "IMAGE_SIZE = 96\n",
        "input_shape = (IMAGE_SIZE, IMAGE_SIZE, 1)\n",
        "left_input = Input(input_shape)\n",
        "right_input = Input(input_shape)\n",
        "\n",
        "convnet = create_model(input_shape)\n",
        "\n",
        "encoded_l = convnet(left_input)\n",
        "encoded_r = convnet(right_input)"
      ],
      "execution_count": 0,
      "outputs": []
    },
    {
      "cell_type": "code",
      "metadata": {
        "id": "h9UAZwUGBmoj",
        "colab_type": "code",
        "colab": {}
      },
      "source": [
        "def euclidean_distance(vects):\n",
        "    x, y = vects\n",
        "    sum_square = K.sum(K.square(x - y), axis=1, keepdims=True)\n",
        "    return K.sqrt(K.maximum(sum_square, K.epsilon()))\n",
        "\n",
        "\n",
        "def eucl_dist_output_shape(shapes):\n",
        "    shape1, shape2 = shapes\n",
        "    return (shape1[0], 1)\n",
        "\n",
        "\n",
        "def contrastive_loss(y_true, y_pred):\n",
        "    '''Contrastive loss from Hadsell-et-al.'06\n",
        "    http://yann.lecun.com/exdb/publis/pdf/hadsell-chopra-lecun-06.pdf\n",
        "    '''\n",
        "    margin = 1 #1\n",
        "    square_pred = K.square(y_pred)\n",
        "    margin_square = K.square(K.maximum(margin - y_pred, 0))\n",
        "    return K.mean(y_true * square_pred + (1 - y_true) * margin_square)\n",
        "\n",
        "def compute_accuracy(y_true, y_pred):\n",
        "    '''Compute classification accuracy with a fixed threshold on distances.\n",
        "    '''\n",
        "    pred = y_pred.ravel() < 0.5\n",
        "    return np.mean(pred == y_true)\n",
        "\n",
        "\n",
        "def accuracy(y_true, y_pred):\n",
        "    '''Compute classification accuracy with a fixed threshold on distances.\n",
        "    '''\n",
        "    return K.mean(K.equal(y_true, K.cast(y_pred < 0.5, y_true.dtype)))"
      ],
      "execution_count": 0,
      "outputs": []
    },
    {
      "cell_type": "code",
      "metadata": {
        "id": "nRggPCTMBmfm",
        "colab_type": "code",
        "colab": {}
      },
      "source": [
        "distance = Lambda(euclidean_distance, output_shape=eucl_dist_output_shape)([encoded_l, encoded_r])"
      ],
      "execution_count": 0,
      "outputs": []
    },
    {
      "cell_type": "code",
      "metadata": {
        "id": "oBd5wFEpW6ye",
        "colab_type": "code",
        "colab": {}
      },
      "source": [
        "siamese_net = Model(inputs=[left_input,right_input],outputs=distance)\n",
        "optimizer = Adam(0.00006)\n",
        "siamese_net.compile(loss=contrastive_loss, optimizer=optimizer, metrics=[accuracy])\n",
        "# siamese_net.compile(loss=\"binary_crossentropy\",optimizer=optimizer, metrics=['accuracy'])"
      ],
      "execution_count": 0,
      "outputs": []
    },
    {
      "cell_type": "code",
      "metadata": {
        "id": "yqzWhKgoi-N6",
        "colab_type": "code",
        "colab": {}
      },
      "source": [
        "import os\n",
        "import cv2\n",
        "import numpy as np\n",
        "FRAME_THICKNESS = 3\n",
        "FONT_THICKNESS = 2\n",
        "TRAINING_FACES_DIR = \"training\"\n",
        "faces = os.listdir(TRAINING_FACES_DIR)\n",
        "\n",
        "def zscore(x):\n",
        "  mean = np.mean(x)\n",
        "  std = np.std(x)\n",
        "  std_adj = np.maximum(std, 1.0 / np.sqrt(x.size))\n",
        "  y = np.multiply(np.subtract(x, mean), 1 / std_adj)\n",
        "  return y"
      ],
      "execution_count": 0,
      "outputs": []
    },
    {
      "cell_type": "code",
      "metadata": {
        "id": "yn-obBgRjmCy",
        "colab_type": "code",
        "outputId": "7e4ac4e2-e000-46fe-c9e5-2713c519661f",
        "colab": {
          "base_uri": "https://localhost:8080/",
          "height": 35
        }
      },
      "source": [
        "print(\"loading faces\")\n",
        "\n",
        "faces = os.listdir(TRAINING_FACES_DIR)\n",
        "training_images = {}\n",
        "for name in os.listdir(TRAINING_FACES_DIR):\n",
        "\ttemp = []\n",
        "\tfor filename in os.listdir(f\"{TRAINING_FACES_DIR}/{name}\"):\n",
        "\t\timage = cv2.imread(f\"{TRAINING_FACES_DIR}/{name}/{filename}\")\n",
        "\t\timage = cv2.resize(image, input_shape[:-1])\n",
        "\t\timage = cv2.cvtColor(image, cv2.COLOR_RGB2GRAY) #cv2.COLOR_RGB2BGR\n",
        "\t\timage = np.expand_dims(image, axis=-1)\n",
        "\t\ttemp.append(zscore(image))\n",
        "\t\t# temp.append(np.around(image/255, decimals=5))\n",
        "\ttraining_images[name] = np.array(temp)"
      ],
      "execution_count": 0,
      "outputs": [
        {
          "output_type": "stream",
          "text": [
            "loading faces\n"
          ],
          "name": "stdout"
        }
      ]
    },
    {
      "cell_type": "code",
      "metadata": {
        "id": "FxCLxrNxDJxV",
        "colab_type": "code",
        "colab": {}
      },
      "source": [
        "# import pickle\n",
        "\n",
        "# pickle_out = open(\"/content/drive/My Drive/FACE RECOGNITION TRAINING/training_images/training_images.pickle\", \"wb\")\n",
        "# pickle.dump(training_images, pickle_out)\n",
        "# pickle_out.close()"
      ],
      "execution_count": 0,
      "outputs": []
    },
    {
      "cell_type": "code",
      "metadata": {
        "id": "dMMgh51WD-WF",
        "colab_type": "code",
        "colab": {}
      },
      "source": [
        "# import pickle \n",
        "\n",
        "# pickle_in = open(\"/content/drive/My Drive/FACE RECOGNITION TRAINING/training_images/training_images.pickle\", \"rb\")\n",
        "# training_images = pickle.load(pickle_in)\n"
      ],
      "execution_count": 0,
      "outputs": []
    },
    {
      "cell_type": "code",
      "metadata": {
        "id": "yfg_yDHNEiUd",
        "colab_type": "code",
        "outputId": "0a8a8ec1-c7d8-48e8-ddf4-b334015da929",
        "colab": {
          "base_uri": "https://localhost:8080/",
          "height": 35
        }
      },
      "source": [
        "training_images.keys()"
      ],
      "execution_count": 0,
      "outputs": [
        {
          "output_type": "execute_result",
          "data": {
            "text/plain": [
              "dict_keys(['penny', 'howard', 'sheldon', 'raj', 'lenord'])"
            ]
          },
          "metadata": {
            "tags": []
          },
          "execution_count": 46
        }
      ]
    },
    {
      "cell_type": "code",
      "metadata": {
        "id": "PboT6TowAZbo",
        "colab_type": "code",
        "outputId": "83bce307-1472-4747-b0d4-71b8e89dcf0d",
        "colab": {
          "base_uri": "https://localhost:8080/",
          "height": 35
        }
      },
      "source": [
        "print(\"loading validation faces\")\n",
        "VALIDATION_FACES_DIR = \"test_images (1)\"\n",
        "validation_faces = os.listdir(VALIDATION_FACES_DIR)\n",
        "val_images = {}\n",
        "for name in os.listdir(VALIDATION_FACES_DIR):\n",
        "\ttemp = []\n",
        "\tfor filename in os.listdir(f\"{VALIDATION_FACES_DIR}/{name}\"):\n",
        "\t\timage = cv2.imread(f\"{VALIDATION_FACES_DIR}/{name}/{filename}\")\n",
        "\t\timage = cv2.resize(image, input_shape[:-1])\n",
        "\t\timage = cv2.cvtColor(image, cv2.COLOR_RGB2GRAY) #cv2.COLOR_RGB2BGR\n",
        "\t\timage = np.expand_dims(image, axis=-1)\n",
        "\t\ttemp.append(zscore(image))\n",
        "\t\t# temp.append(np.around(image/255, decimals=5))\n",
        "\tval_images[name] = np.array(temp)"
      ],
      "execution_count": 0,
      "outputs": [
        {
          "output_type": "stream",
          "text": [
            "loading validation faces\n"
          ],
          "name": "stdout"
        }
      ]
    },
    {
      "cell_type": "code",
      "metadata": {
        "id": "hyST1uVtkkth",
        "colab_type": "code",
        "outputId": "849d940e-da92-4732-b020-4a3b80b77ce9",
        "colab": {
          "base_uri": "https://localhost:8080/",
          "height": 106
        }
      },
      "source": [
        "for name in val_images.keys():\n",
        "  print(name, len(val_images[name]))"
      ],
      "execution_count": 0,
      "outputs": [
        {
          "output_type": "stream",
          "text": [
            "sheldon 18\n",
            "penny 18\n",
            "howard 12\n",
            "lenord 15\n",
            "raj 14\n"
          ],
          "name": "stdout"
        }
      ]
    },
    {
      "cell_type": "code",
      "metadata": {
        "id": "vOMeYMlB0Llz",
        "colab_type": "code",
        "colab": {}
      },
      "source": [
        "#Y = 1 if X1 and X2 are deemd similar, and Y = 0 if they are deemed dissimilar\n",
        "def pairs_generator(batch_size):\n",
        "    y_val = np.zeros((batch_size, 1))\n",
        "    positives = np.zeros((batch_size, input_shape[0], input_shape[1], input_shape[2]))\n",
        "    negatives = np.zeros((batch_size, input_shape[0], input_shape[1], input_shape[2]))\n",
        "    while True:\n",
        "      i = 0\n",
        "      for i in range(batch_size//2):\n",
        "        positiveFace = faces[np.random.randint(len(faces))]\n",
        "        negativeFace = faces[np.random.randint(len(faces))]\n",
        "        while positiveFace == negativeFace:\n",
        "          negativeFace = faces[np.random.randint(len(faces))]\n",
        "\n",
        "        positives[i] =  training_images[positiveFace][np.random.randint(len(training_images[positiveFace]))]\n",
        "        # plt.imshow(positives[i])\n",
        "        # plt.show()\n",
        "        negatives[i] = training_images[negativeFace][np.random.randint(len(training_images[negativeFace]))]\n",
        "        # plt.imshow(negatives[i])\n",
        "        # plt.show()\n",
        "        y_val[i] = 0\n",
        "\n",
        "      for i in range(i, batch_size):\n",
        "        positiveFace = faces[np.random.randint(len(faces))]\n",
        "        negativeFace = faces[np.random.randint(len(faces))]\n",
        "        while positiveFace != negativeFace:\n",
        "              negativeFace = faces[np.random.randint(len(faces))]\n",
        "\n",
        "        positives[i] =  training_images[positiveFace][np.random.randint(len(training_images[positiveFace]))]\n",
        "        # plt.imshow(positives[i])\n",
        "        # plt.show()\n",
        "        negatives[i] = training_images[negativeFace][np.random.randint(len(training_images[negativeFace]))]\n",
        "        # plt.imshow(negatives[i])\n",
        "        # plt.show()\n",
        "        y_val[i] = 1\n",
        "\n",
        "        yield ([positives, negatives], y_val)"
      ],
      "execution_count": 0,
      "outputs": []
    },
    {
      "cell_type": "code",
      "metadata": {
        "id": "5sajFYu6BbZo",
        "colab_type": "code",
        "colab": {}
      },
      "source": [
        "def validation_set(n = 100):\n",
        "  for name in faces:\n",
        "    temp_count[name] = 0\n",
        "\n",
        "\n",
        "  y_val = np.zeros((n, 1))\n",
        "  positives = np.zeros((n, input_shape[0], input_shape[1], input_shape[2]))\n",
        "  negatives = np.zeros((n, input_shape[0], input_shape[1], input_shape[2]))\n",
        "  i = 0\n",
        "  for i in range(n//2):\n",
        "    positiveFace = faces[np.random.randint(len(faces))]\n",
        "    negativeFace = faces[np.random.randint(len(faces))]\n",
        "    while positiveFace == negativeFace:\n",
        "      negativeFace = faces[np.random.randint(len(faces))]\n",
        "\n",
        "    temp_count[positiveFace] += 1\n",
        "    temp_count[negativeFace] += 1\n",
        "\n",
        "    positives[i] =  val_images[positiveFace][np.random.randint(len(val_images[positiveFace]))]\n",
        "    # plt.imshow(positives[i])\n",
        "    # plt.show()\n",
        "    negatives[i] = val_images[negativeFace][np.random.randint(len(val_images[negativeFace]))]\n",
        "    # plt.imshow(negatives[i])\n",
        "    # plt.show()\n",
        "    y_val[i] = 0\n",
        "\n",
        "  for i in range(i, n):\n",
        "    positiveFace = faces[np.random.randint(len(faces))]\n",
        "    negativeFace = faces[np.random.randint(len(faces))]\n",
        "    while positiveFace != negativeFace:\n",
        "          negativeFace = faces[np.random.randint(len(faces))]\n",
        "\n",
        "    temp_count[positiveFace] += 1\n",
        "    positives[i] =  val_images[positiveFace][np.random.randint(len(val_images[positiveFace]))]\n",
        "    # plt.imshow(positives[i])\n",
        "    # plt.show()\n",
        "    negatives[i] = val_images[negativeFace][np.random.randint(len(val_images[negativeFace]))]\n",
        "    # plt.imshow(negatives[i])\n",
        "    # plt.show()\n",
        "    y_val[i] = 1\n",
        "\n",
        "  return ([positives, negatives], y_val)"
      ],
      "execution_count": 0,
      "outputs": []
    },
    {
      "cell_type": "code",
      "metadata": {
        "id": "ZWXfXKbnB5Bv",
        "colab_type": "code",
        "colab": {}
      },
      "source": [
        "temp_count = {}\n",
        "val = validation_set()"
      ],
      "execution_count": 0,
      "outputs": []
    },
    {
      "cell_type": "code",
      "metadata": {
        "id": "vweJ18kmmgnT",
        "colab_type": "code",
        "outputId": "8d7f88b7-6d1c-46ef-b6f1-f5986d5df491",
        "colab": {
          "base_uri": "https://localhost:8080/",
          "height": 106
        }
      },
      "source": [
        "for name in faces:\n",
        "  print (name, temp_count[name])"
      ],
      "execution_count": 0,
      "outputs": [
        {
          "output_type": "stream",
          "text": [
            "penny 25\n",
            "howard 39\n",
            "sheldon 21\n",
            "raj 38\n",
            "lenord 28\n"
          ],
          "name": "stdout"
        }
      ]
    },
    {
      "cell_type": "code",
      "metadata": {
        "id": "KOYH4jyXrjIy",
        "colab_type": "code",
        "colab": {}
      },
      "source": [
        "# pickle_out2 = open(\"/content/drive/My Drive/FACE RECOGNITION TRAINING/validation_images/validation_images.pickle\", \"wb\")\n",
        "# pickle.dump(val, pickle_out2)\n",
        "# pickle_out2.close()"
      ],
      "execution_count": 0,
      "outputs": []
    },
    {
      "cell_type": "code",
      "metadata": {
        "id": "UJsvVhKisGM8",
        "colab_type": "code",
        "colab": {}
      },
      "source": [
        "# pickle_in2 = open(\"/content/drive/My Drive/FACE RECOGNITION TRAINING/validation_images/validation_images.pickle\", \"rb\")\n",
        "# val = pickle.load(pickle_in2)"
      ],
      "execution_count": 0,
      "outputs": []
    },
    {
      "cell_type": "code",
      "metadata": {
        "id": "ddYkqGUZLAxG",
        "colab_type": "code",
        "outputId": "56b2e8ee-010c-458f-d6dc-c3f971628f15",
        "colab": {
          "base_uri": "https://localhost:8080/",
          "height": 1000
        }
      },
      "source": [
        "generator = pairs_generator(batch_size=200)\n",
        "history = siamese_net.fit(generator,\n",
        "          epochs=50,\n",
        "          steps_per_epoch=50,\n",
        "          validation_data=val)"
      ],
      "execution_count": 0,
      "outputs": [
        {
          "output_type": "stream",
          "text": [
            "Epoch 1/50\n",
            "50/50 [==============================] - 9s 189ms/step - loss: 1.3966 - accuracy: 0.7650 - val_loss: 0.3209 - val_accuracy: 0.5200\n",
            "Epoch 2/50\n",
            "50/50 [==============================] - 7s 142ms/step - loss: 0.3039 - accuracy: 0.6184 - val_loss: 0.4091 - val_accuracy: 0.5100\n",
            "Epoch 3/50\n",
            "50/50 [==============================] - 7s 142ms/step - loss: 0.3235 - accuracy: 0.5924 - val_loss: 0.4722 - val_accuracy: 0.5100\n",
            "Epoch 4/50\n",
            "50/50 [==============================] - 7s 142ms/step - loss: 0.2905 - accuracy: 0.6418 - val_loss: 0.4391 - val_accuracy: 0.5100\n",
            "Epoch 5/50\n",
            "50/50 [==============================] - 7s 142ms/step - loss: 0.2927 - accuracy: 0.6383 - val_loss: 0.4231 - val_accuracy: 0.5100\n",
            "Epoch 6/50\n",
            "50/50 [==============================] - 7s 143ms/step - loss: 0.2703 - accuracy: 0.6647 - val_loss: 0.4569 - val_accuracy: 0.5000\n",
            "Epoch 7/50\n",
            "50/50 [==============================] - 7s 143ms/step - loss: 0.3062 - accuracy: 0.6288 - val_loss: 0.4638 - val_accuracy: 0.4900\n",
            "Epoch 8/50\n",
            "50/50 [==============================] - 7s 142ms/step - loss: 0.2944 - accuracy: 0.6530 - val_loss: 0.4195 - val_accuracy: 0.5100\n",
            "Epoch 9/50\n",
            "50/50 [==============================] - 7s 142ms/step - loss: 0.2900 - accuracy: 0.6461 - val_loss: 0.4372 - val_accuracy: 0.5300\n",
            "Epoch 10/50\n",
            "50/50 [==============================] - 7s 143ms/step - loss: 0.2552 - accuracy: 0.6993 - val_loss: 0.4118 - val_accuracy: 0.5300\n",
            "Epoch 11/50\n",
            "50/50 [==============================] - 7s 142ms/step - loss: 0.3136 - accuracy: 0.6202 - val_loss: 0.4800 - val_accuracy: 0.4900\n",
            "Epoch 12/50\n",
            "50/50 [==============================] - 7s 141ms/step - loss: 0.2595 - accuracy: 0.6782 - val_loss: 0.4536 - val_accuracy: 0.5000\n",
            "Epoch 13/50\n",
            "50/50 [==============================] - 7s 142ms/step - loss: 0.2783 - accuracy: 0.6608 - val_loss: 0.4469 - val_accuracy: 0.5100\n",
            "Epoch 14/50\n",
            "50/50 [==============================] - 7s 142ms/step - loss: 0.2475 - accuracy: 0.6984 - val_loss: 0.3957 - val_accuracy: 0.5000\n",
            "Epoch 15/50\n",
            "50/50 [==============================] - 7s 143ms/step - loss: 0.2340 - accuracy: 0.7037 - val_loss: 0.3126 - val_accuracy: 0.5700\n",
            "Epoch 16/50\n",
            "50/50 [==============================] - 7s 143ms/step - loss: 0.1737 - accuracy: 0.7726 - val_loss: 0.2874 - val_accuracy: 0.5800\n",
            "Epoch 17/50\n",
            "50/50 [==============================] - 7s 142ms/step - loss: 0.1582 - accuracy: 0.7985 - val_loss: 0.2408 - val_accuracy: 0.6800\n",
            "Epoch 18/50\n",
            "50/50 [==============================] - 7s 143ms/step - loss: 0.1375 - accuracy: 0.8292 - val_loss: 0.2406 - val_accuracy: 0.6900\n",
            "Epoch 19/50\n",
            "50/50 [==============================] - 7s 142ms/step - loss: 0.1600 - accuracy: 0.7936 - val_loss: 0.2249 - val_accuracy: 0.7000\n",
            "Epoch 20/50\n",
            "50/50 [==============================] - 7s 141ms/step - loss: 0.1131 - accuracy: 0.8557 - val_loss: 0.2185 - val_accuracy: 0.6800\n",
            "Epoch 21/50\n",
            "50/50 [==============================] - 7s 142ms/step - loss: 0.1121 - accuracy: 0.8539 - val_loss: 0.2099 - val_accuracy: 0.7100\n",
            "Epoch 22/50\n",
            "50/50 [==============================] - 7s 143ms/step - loss: 0.0727 - accuracy: 0.9204 - val_loss: 0.1917 - val_accuracy: 0.6900\n",
            "Epoch 23/50\n",
            "50/50 [==============================] - 7s 142ms/step - loss: 0.0926 - accuracy: 0.8816 - val_loss: 0.2108 - val_accuracy: 0.6700\n",
            "Epoch 24/50\n",
            "50/50 [==============================] - 7s 142ms/step - loss: 0.0716 - accuracy: 0.9184 - val_loss: 0.2176 - val_accuracy: 0.7100\n",
            "Epoch 25/50\n",
            "50/50 [==============================] - 7s 142ms/step - loss: 0.0719 - accuracy: 0.9216 - val_loss: 0.2124 - val_accuracy: 0.6900\n",
            "Epoch 26/50\n",
            "50/50 [==============================] - 7s 142ms/step - loss: 0.0594 - accuracy: 0.9461 - val_loss: 0.2209 - val_accuracy: 0.6400\n",
            "Epoch 27/50\n",
            "50/50 [==============================] - 7s 141ms/step - loss: 0.0647 - accuracy: 0.9307 - val_loss: 0.1958 - val_accuracy: 0.6700\n",
            "Epoch 28/50\n",
            "50/50 [==============================] - 7s 142ms/step - loss: 0.0447 - accuracy: 0.9599 - val_loss: 0.1833 - val_accuracy: 0.7000\n",
            "Epoch 29/50\n",
            "50/50 [==============================] - 7s 143ms/step - loss: 0.0628 - accuracy: 0.9360 - val_loss: 0.1517 - val_accuracy: 0.8000\n",
            "Epoch 30/50\n",
            "50/50 [==============================] - 7s 143ms/step - loss: 0.0416 - accuracy: 0.9671 - val_loss: 0.1728 - val_accuracy: 0.7600\n",
            "Epoch 31/50\n",
            "50/50 [==============================] - 7s 143ms/step - loss: 0.0562 - accuracy: 0.9467 - val_loss: 0.1763 - val_accuracy: 0.7200\n",
            "Epoch 32/50\n",
            "50/50 [==============================] - 7s 142ms/step - loss: 0.0361 - accuracy: 0.9786 - val_loss: 0.1801 - val_accuracy: 0.7300\n",
            "Epoch 33/50\n",
            "50/50 [==============================] - 7s 142ms/step - loss: 0.0494 - accuracy: 0.9567 - val_loss: 0.1905 - val_accuracy: 0.7300\n",
            "Epoch 34/50\n",
            "50/50 [==============================] - 7s 142ms/step - loss: 0.0325 - accuracy: 0.9815 - val_loss: 0.1650 - val_accuracy: 0.7700\n",
            "Epoch 35/50\n",
            "50/50 [==============================] - 7s 142ms/step - loss: 0.0487 - accuracy: 0.9565 - val_loss: 0.1702 - val_accuracy: 0.7500\n",
            "Epoch 36/50\n",
            "50/50 [==============================] - 7s 143ms/step - loss: 0.0335 - accuracy: 0.9788 - val_loss: 0.1821 - val_accuracy: 0.7400\n",
            "Epoch 37/50\n",
            "50/50 [==============================] - 7s 142ms/step - loss: 0.0424 - accuracy: 0.9613 - val_loss: 0.1683 - val_accuracy: 0.7900\n",
            "Epoch 38/50\n",
            "50/50 [==============================] - 7s 142ms/step - loss: 0.0351 - accuracy: 0.9750 - val_loss: 0.1609 - val_accuracy: 0.7300\n",
            "Epoch 39/50\n",
            "50/50 [==============================] - 7s 143ms/step - loss: 0.0378 - accuracy: 0.9725 - val_loss: 0.1820 - val_accuracy: 0.6800\n",
            "Epoch 40/50\n",
            "50/50 [==============================] - 7s 143ms/step - loss: 0.0284 - accuracy: 0.9867 - val_loss: 0.1347 - val_accuracy: 0.7500\n",
            "Epoch 41/50\n",
            "50/50 [==============================] - 7s 143ms/step - loss: 0.0429 - accuracy: 0.9650 - val_loss: 0.1316 - val_accuracy: 0.8000\n",
            "Epoch 42/50\n",
            "50/50 [==============================] - 7s 143ms/step - loss: 0.0287 - accuracy: 0.9869 - val_loss: 0.1454 - val_accuracy: 0.7800\n",
            "Epoch 43/50\n",
            "50/50 [==============================] - 7s 143ms/step - loss: 0.0400 - accuracy: 0.9700 - val_loss: 0.1507 - val_accuracy: 0.8100\n",
            "Epoch 44/50\n",
            "50/50 [==============================] - 7s 142ms/step - loss: 0.0318 - accuracy: 0.9798 - val_loss: 0.1476 - val_accuracy: 0.8000\n",
            "Epoch 45/50\n",
            "50/50 [==============================] - 7s 142ms/step - loss: 0.0384 - accuracy: 0.9738 - val_loss: 0.1634 - val_accuracy: 0.7800\n",
            "Epoch 46/50\n",
            "50/50 [==============================] - 7s 143ms/step - loss: 0.0279 - accuracy: 0.9884 - val_loss: 0.1698 - val_accuracy: 0.7500\n",
            "Epoch 47/50\n",
            "50/50 [==============================] - 7s 142ms/step - loss: 0.0329 - accuracy: 0.9793 - val_loss: 0.1715 - val_accuracy: 0.7400\n",
            "Epoch 48/50\n",
            "50/50 [==============================] - 7s 142ms/step - loss: 0.0213 - accuracy: 0.9956 - val_loss: 0.1615 - val_accuracy: 0.7500\n",
            "Epoch 49/50\n",
            "50/50 [==============================] - 7s 143ms/step - loss: 0.0353 - accuracy: 0.9798 - val_loss: 0.1809 - val_accuracy: 0.7400\n",
            "Epoch 50/50\n",
            "50/50 [==============================] - 7s 143ms/step - loss: 0.0258 - accuracy: 0.9911 - val_loss: 0.1762 - val_accuracy: 0.7700\n"
          ],
          "name": "stdout"
        }
      ]
    },
    {
      "cell_type": "code",
      "metadata": {
        "id": "rpZ6exo9SXNS",
        "colab_type": "code",
        "outputId": "77649f4a-f90c-4a89-e8b9-489a53250d84",
        "colab": {
          "base_uri": "https://localhost:8080/",
          "height": 35
        }
      },
      "source": [
        "history.history.keys()"
      ],
      "execution_count": 0,
      "outputs": [
        {
          "output_type": "execute_result",
          "data": {
            "text/plain": [
              "dict_keys(['val_loss', 'val_accuracy', 'loss', 'accuracy'])"
            ]
          },
          "metadata": {
            "tags": []
          },
          "execution_count": 56
        }
      ]
    },
    {
      "cell_type": "code",
      "metadata": {
        "id": "kpfBr5XwuZxY",
        "colab_type": "code",
        "outputId": "dc7e40bd-b9e9-42c0-dd68-bfc5385c2b27",
        "colab": {
          "base_uri": "https://localhost:8080/",
          "height": 295
        }
      },
      "source": [
        "# summarize history for accuracy\n",
        "plt.plot(history.history['accuracy'])\n",
        "plt.plot(history.history['val_accuracy'])\n",
        "plt.title('model accuracy')\n",
        "plt.ylabel('accuracy')\n",
        "plt.xlabel('epoch')\n",
        "plt.legend(['training', 'validation'], loc='upper left')\n",
        "plt.show()"
      ],
      "execution_count": 0,
      "outputs": [
        {
          "output_type": "display_data",
          "data": {
            "image/png": "[encoded data removed]",
            "text/plain": [
              "<Figure size 432x288 with 1 Axes>"
            ]
          },
          "metadata": {
            "tags": [],
            "needs_background": "light"
          }
        }
      ]
    },
    {
      "cell_type": "code",
      "metadata": {
        "id": "Epsx-ZbunQp0",
        "colab_type": "code",
        "outputId": "8655c173-fa6f-42d3-f58a-c064684ecfb4",
        "colab": {
          "base_uri": "https://localhost:8080/",
          "height": 295
        }
      },
      "source": [
        "# summarize history for loss\n",
        "plt.plot(history.history['loss'])\n",
        "plt.plot(history.history['val_loss'])\n",
        "plt.title('model loss')\n",
        "plt.ylabel('loss')\n",
        "plt.xlabel('epoch')\n",
        "plt.legend(['training', 'validation'], loc='upper left')\n",
        "plt.show()"
      ],
      "execution_count": 0,
      "outputs": [
        {
          "output_type": "display_data",
          "data": {
            "image/png": "[encoded data removed]",
            "text/plain": [
              "<Figure size 432x288 with 1 Axes>"
            ]
          },
          "metadata": {
            "tags": [],
            "needs_background": "light"
          }
        }
      ]
    },
    {
      "cell_type": "code",
      "metadata": {
        "id": "9flgMSzdVSmi",
        "colab_type": "code",
        "outputId": "bfe9079b-5fa3-4de3-cfaa-64ccd4885a51",
        "colab": {
          "base_uri": "https://localhost:8080/",
          "height": 1000
        }
      },
      "source": [
        "history2 = siamese_net.fit(generator,\n",
        "          epochs=50,\n",
        "          steps_per_epoch=50,\n",
        "          validation_data=val)"
      ],
      "execution_count": 0,
      "outputs": [
        {
          "output_type": "stream",
          "text": [
            "Epoch 1/50\n",
            "50/50 [==============================] - 9s 182ms/step - loss: 0.0719 - accuracy: 0.9323 - val_loss: 0.1848 - val_accuracy: 0.7500\n",
            "Epoch 2/50\n",
            "50/50 [==============================] - 7s 140ms/step - loss: 0.0540 - accuracy: 0.9550 - val_loss: 0.1964 - val_accuracy: 0.7300\n",
            "Epoch 3/50\n",
            "50/50 [==============================] - 7s 141ms/step - loss: 0.0412 - accuracy: 0.9681 - val_loss: 0.1887 - val_accuracy: 0.7300\n",
            "Epoch 4/50\n",
            "50/50 [==============================] - 7s 141ms/step - loss: 0.0325 - accuracy: 0.9803 - val_loss: 0.1822 - val_accuracy: 0.7500\n",
            "Epoch 5/50\n",
            "50/50 [==============================] - 7s 141ms/step - loss: 0.0332 - accuracy: 0.9911 - val_loss: 0.1958 - val_accuracy: 0.7600\n",
            "Epoch 6/50\n",
            "50/50 [==============================] - 7s 141ms/step - loss: 0.0351 - accuracy: 0.9847 - val_loss: 0.1882 - val_accuracy: 0.7500\n",
            "Epoch 7/50\n",
            "50/50 [==============================] - 7s 141ms/step - loss: 0.0299 - accuracy: 0.9879 - val_loss: 0.1828 - val_accuracy: 0.7300\n",
            "Epoch 8/50\n",
            "50/50 [==============================] - 7s 143ms/step - loss: 0.0317 - accuracy: 0.9840 - val_loss: 0.1652 - val_accuracy: 0.7500\n",
            "Epoch 9/50\n",
            "50/50 [==============================] - 7s 140ms/step - loss: 0.0262 - accuracy: 0.9895 - val_loss: 0.1660 - val_accuracy: 0.7500\n",
            "Epoch 10/50\n",
            "50/50 [==============================] - 7s 142ms/step - loss: 0.0215 - accuracy: 0.9904 - val_loss: 0.1933 - val_accuracy: 0.7500\n",
            "Epoch 11/50\n",
            "50/50 [==============================] - 7s 140ms/step - loss: 0.0224 - accuracy: 0.9940 - val_loss: 0.1836 - val_accuracy: 0.7800\n",
            "Epoch 12/50\n",
            "50/50 [==============================] - 7s 141ms/step - loss: 0.0219 - accuracy: 0.9925 - val_loss: 0.1652 - val_accuracy: 0.7900\n",
            "Epoch 13/50\n",
            "50/50 [==============================] - 7s 140ms/step - loss: 0.0223 - accuracy: 0.9935 - val_loss: 0.1843 - val_accuracy: 0.7400\n",
            "Epoch 14/50\n",
            "50/50 [==============================] - 7s 141ms/step - loss: 0.0248 - accuracy: 0.9905 - val_loss: 0.1768 - val_accuracy: 0.7500\n",
            "Epoch 15/50\n",
            "50/50 [==============================] - 7s 140ms/step - loss: 0.0282 - accuracy: 0.9927 - val_loss: 0.1864 - val_accuracy: 0.7500\n",
            "Epoch 16/50\n",
            "50/50 [==============================] - 7s 141ms/step - loss: 0.0249 - accuracy: 0.9896 - val_loss: 0.1834 - val_accuracy: 0.7500\n",
            "Epoch 17/50\n",
            "50/50 [==============================] - 7s 141ms/step - loss: 0.0269 - accuracy: 0.9924 - val_loss: 0.1867 - val_accuracy: 0.7400\n",
            "Epoch 18/50\n",
            "50/50 [==============================] - 7s 140ms/step - loss: 0.0241 - accuracy: 0.9915 - val_loss: 0.1772 - val_accuracy: 0.7500\n",
            "Epoch 19/50\n",
            "50/50 [==============================] - 7s 141ms/step - loss: 0.0224 - accuracy: 0.9920 - val_loss: 0.1861 - val_accuracy: 0.7500\n",
            "Epoch 20/50\n",
            "50/50 [==============================] - 7s 141ms/step - loss: 0.0211 - accuracy: 0.9927 - val_loss: 0.1708 - val_accuracy: 0.7800\n",
            "Epoch 21/50\n",
            "50/50 [==============================] - 7s 140ms/step - loss: 0.0278 - accuracy: 0.9916 - val_loss: 0.1718 - val_accuracy: 0.8000\n",
            "Epoch 22/50\n",
            "50/50 [==============================] - 7s 140ms/step - loss: 0.0203 - accuracy: 0.9915 - val_loss: 0.1737 - val_accuracy: 0.8000\n",
            "Epoch 23/50\n",
            "50/50 [==============================] - 7s 141ms/step - loss: 0.0230 - accuracy: 0.9922 - val_loss: 0.1832 - val_accuracy: 0.7700\n",
            "Epoch 24/50\n",
            "50/50 [==============================] - 7s 140ms/step - loss: 0.0197 - accuracy: 0.9960 - val_loss: 0.1834 - val_accuracy: 0.7900\n",
            "Epoch 25/50\n",
            "50/50 [==============================] - 7s 141ms/step - loss: 0.0201 - accuracy: 0.9968 - val_loss: 0.1732 - val_accuracy: 0.7600\n",
            "Epoch 26/50\n",
            "50/50 [==============================] - 7s 140ms/step - loss: 0.0197 - accuracy: 0.9960 - val_loss: 0.1703 - val_accuracy: 0.7700\n",
            "Epoch 27/50\n",
            "50/50 [==============================] - 7s 140ms/step - loss: 0.0239 - accuracy: 0.9944 - val_loss: 0.1870 - val_accuracy: 0.7200\n",
            "Epoch 28/50\n",
            "50/50 [==============================] - 7s 141ms/step - loss: 0.0195 - accuracy: 0.9957 - val_loss: 0.1959 - val_accuracy: 0.7400\n",
            "Epoch 29/50\n",
            "50/50 [==============================] - 7s 141ms/step - loss: 0.0239 - accuracy: 0.9924 - val_loss: 0.2004 - val_accuracy: 0.7600\n",
            "Epoch 30/50\n",
            "50/50 [==============================] - 7s 140ms/step - loss: 0.0189 - accuracy: 0.9963 - val_loss: 0.2049 - val_accuracy: 0.7500\n",
            "Epoch 31/50\n",
            "50/50 [==============================] - 7s 140ms/step - loss: 0.0205 - accuracy: 0.9947 - val_loss: 0.1897 - val_accuracy: 0.7900\n",
            "Epoch 32/50\n",
            "50/50 [==============================] - 7s 140ms/step - loss: 0.0183 - accuracy: 0.9958 - val_loss: 0.1885 - val_accuracy: 0.7800\n",
            "Epoch 33/50\n",
            "50/50 [==============================] - 7s 140ms/step - loss: 0.0279 - accuracy: 0.9829 - val_loss: 0.1846 - val_accuracy: 0.7800\n",
            "Epoch 34/50\n",
            "50/50 [==============================] - 7s 141ms/step - loss: 0.0190 - accuracy: 0.9958 - val_loss: 0.1799 - val_accuracy: 0.7800\n",
            "Epoch 35/50\n",
            "50/50 [==============================] - 7s 140ms/step - loss: 0.0238 - accuracy: 0.9915 - val_loss: 0.1768 - val_accuracy: 0.7900\n",
            "Epoch 36/50\n",
            "50/50 [==============================] - 7s 140ms/step - loss: 0.0191 - accuracy: 0.9963 - val_loss: 0.1597 - val_accuracy: 0.8000\n",
            "Epoch 37/50\n",
            "50/50 [==============================] - 7s 141ms/step - loss: 0.0304 - accuracy: 0.9901 - val_loss: 0.1878 - val_accuracy: 0.7500\n",
            "Epoch 38/50\n",
            "50/50 [==============================] - 7s 140ms/step - loss: 0.0192 - accuracy: 0.9964 - val_loss: 0.1705 - val_accuracy: 0.7700\n",
            "Epoch 39/50\n",
            "50/50 [==============================] - 7s 140ms/step - loss: 0.0190 - accuracy: 0.9932 - val_loss: 0.1783 - val_accuracy: 0.7800\n",
            "Epoch 40/50\n",
            "50/50 [==============================] - 7s 140ms/step - loss: 0.0120 - accuracy: 0.9980 - val_loss: 0.1826 - val_accuracy: 0.7800\n",
            "Epoch 41/50\n",
            "50/50 [==============================] - 7s 141ms/step - loss: 0.0240 - accuracy: 0.9930 - val_loss: 0.1890 - val_accuracy: 0.7800\n",
            "Epoch 42/50\n",
            "50/50 [==============================] - 7s 141ms/step - loss: 0.0187 - accuracy: 0.9967 - val_loss: 0.1909 - val_accuracy: 0.7900\n",
            "Epoch 43/50\n",
            "50/50 [==============================] - 7s 140ms/step - loss: 0.0224 - accuracy: 0.9919 - val_loss: 0.1774 - val_accuracy: 0.7800\n",
            "Epoch 44/50\n",
            "50/50 [==============================] - 7s 140ms/step - loss: 0.0176 - accuracy: 0.9972 - val_loss: 0.1733 - val_accuracy: 0.7500\n",
            "Epoch 45/50\n",
            "50/50 [==============================] - 7s 140ms/step - loss: 0.0189 - accuracy: 0.9939 - val_loss: 0.2034 - val_accuracy: 0.7600\n",
            "Epoch 46/50\n",
            "50/50 [==============================] - 7s 141ms/step - loss: 0.0211 - accuracy: 0.9962 - val_loss: 0.1970 - val_accuracy: 0.7500\n",
            "Epoch 47/50\n",
            "50/50 [==============================] - 7s 141ms/step - loss: 0.0215 - accuracy: 0.9950 - val_loss: 0.1789 - val_accuracy: 0.7700\n",
            "Epoch 48/50\n",
            "50/50 [==============================] - 7s 141ms/step - loss: 0.0165 - accuracy: 0.9980 - val_loss: 0.1914 - val_accuracy: 0.7500\n",
            "Epoch 49/50\n",
            "50/50 [==============================] - 7s 141ms/step - loss: 0.0264 - accuracy: 0.9930 - val_loss: 0.1824 - val_accuracy: 0.7700\n",
            "Epoch 50/50\n",
            "50/50 [==============================] - 7s 140ms/step - loss: 0.0209 - accuracy: 0.9966 - val_loss: 0.1785 - val_accuracy: 0.7800\n"
          ],
          "name": "stdout"
        }
      ]
    },
    {
      "cell_type": "code",
      "metadata": {
        "id": "ignVBViRm-kh",
        "colab_type": "code",
        "outputId": "0f55b5c4-97a1-4e24-cbf5-fa9ec7fbfc23",
        "colab": {
          "base_uri": "https://localhost:8080/",
          "height": 295
        }
      },
      "source": [
        "# summarize history for accuracy\n",
        "plt.plot(history2.history['accuracy'])\n",
        "plt.plot(history2.history['val_accuracy'])\n",
        "plt.title('model accuracy')\n",
        "plt.ylabel('accuracy')\n",
        "plt.xlabel('epoch')\n",
        "plt.legend(['training', 'validation'], loc='upper left')\n",
        "plt.show()"
      ],
      "execution_count": 0,
      "outputs": [
        {
          "output_type": "display_data",
          "data": {
            "image/png": "[encoded data removed]",
            "text/plain": [
              "<Figure size 432x288 with 1 Axes>"
            ]
          },
          "metadata": {
            "tags": [],
            "needs_background": "light"
          }
        }
      ]
    },
    {
      "cell_type": "code",
      "metadata": {
        "id": "Eie3UevpmQf_",
        "colab_type": "code",
        "outputId": "db4b9989-7ef2-4cb7-e719-1b1ca28a1585",
        "colab": {
          "base_uri": "https://localhost:8080/",
          "height": 295
        }
      },
      "source": [
        "import matplotlib.pyplot as plt\n",
        "# summarize history for loss\n",
        "plt.plot(history2.history['loss'])\n",
        "plt.plot(history2.history['val_loss'])\n",
        "plt.title('model loss')\n",
        "plt.ylabel('loss')\n",
        "plt.xlabel('epoch')\n",
        "plt.legend(['training', 'validation'], loc='upper left')\n",
        "plt.show()"
      ],
      "execution_count": 0,
      "outputs": [
        {
          "output_type": "display_data",
          "data": {
            "image/png": "[encoded data removed]",
            "text/plain": [
              "<Figure size 432x288 with 1 Axes>"
            ]
          },
          "metadata": {
            "tags": [],
            "needs_background": "light"
          }
        }
      ]
    },
    {
      "cell_type": "code",
      "metadata": {
        "id": "FvVnBqtDVShG",
        "colab_type": "code",
        "outputId": "cbae8d64-16d7-4989-9341-ea5d651ac57c",
        "colab": {
          "base_uri": "https://localhost:8080/",
          "height": 941
        }
      },
      "source": [
        "convnet.summary()"
      ],
      "execution_count": 0,
      "outputs": [
        {
          "output_type": "stream",
          "text": [
            "Model: \"model_5\"\n",
            "_________________________________________________________________\n",
            "Layer (type)                 Output Shape              Param #   \n",
            "=================================================================\n",
            "input_6 (InputLayer)         (None, 96, 96, 1)         0         \n",
            "_________________________________________________________________\n",
            "conv2 (Conv2D)               (None, 94, 94, 32)        320       \n",
            "_________________________________________________________________\n",
            "bn_conv2 (BatchNormalization (None, 94, 94, 32)        128       \n",
            "_________________________________________________________________\n",
            "activation_5 (Activation)    (None, 94, 94, 32)        0         \n",
            "_________________________________________________________________\n",
            "max_pooling2d_4 (MaxPooling2 (None, 31, 31, 32)        0         \n",
            "_________________________________________________________________\n",
            "conv3 (Conv2D)               (None, 29, 29, 64)        18496     \n",
            "_________________________________________________________________\n",
            "bn_conv3 (BatchNormalization (None, 29, 29, 64)        256       \n",
            "_________________________________________________________________\n",
            "conv4 (Conv2D)               (None, 27, 27, 64)        36928     \n",
            "_________________________________________________________________\n",
            "bn_conv4 (BatchNormalization (None, 27, 27, 64)        256       \n",
            "_________________________________________________________________\n",
            "activation_6 (Activation)    (None, 27, 27, 64)        0         \n",
            "_________________________________________________________________\n",
            "max_pooling2d_5 (MaxPooling2 (None, 9, 9, 64)          0         \n",
            "_________________________________________________________________\n",
            "conv5 (Conv2D)               (None, 7, 7, 128)         73856     \n",
            "_________________________________________________________________\n",
            "bn_conv5 (BatchNormalization (None, 7, 7, 128)         512       \n",
            "_________________________________________________________________\n",
            "activation_7 (Activation)    (None, 7, 7, 128)         0         \n",
            "_________________________________________________________________\n",
            "max_pooling2d_6 (MaxPooling2 (None, 2, 2, 128)         0         \n",
            "_________________________________________________________________\n",
            "dropout_3 (Dropout)          (None, 2, 2, 128)         0         \n",
            "_________________________________________________________________\n",
            "conv6 (Conv2D)               (None, 2, 2, 256)         33024     \n",
            "_________________________________________________________________\n",
            "bn_conv6 (BatchNormalization (None, 2, 2, 256)         1024      \n",
            "_________________________________________________________________\n",
            "activation_8 (Activation)    (None, 2, 2, 256)         0         \n",
            "_________________________________________________________________\n",
            "dropout_4 (Dropout)          (None, 2, 2, 256)         0         \n",
            "_________________________________________________________________\n",
            "flatten_2 (Flatten)          (None, 1024)              0         \n",
            "_________________________________________________________________\n",
            "fc1 (Dense)                  (None, 256)               262400    \n",
            "=================================================================\n",
            "Total params: 427,200\n",
            "Trainable params: 426,112\n",
            "Non-trainable params: 1,088\n",
            "_________________________________________________________________\n"
          ],
          "name": "stdout"
        }
      ]
    },
    {
      "cell_type": "code",
      "metadata": {
        "id": "twqdSxPWa7O2",
        "colab_type": "code",
        "outputId": "6973441b-1476-4e1c-80c8-79184bb4e8f5",
        "colab": {
          "base_uri": "https://localhost:8080/",
          "height": 337
        }
      },
      "source": [
        "siamese_net.summary()"
      ],
      "execution_count": 0,
      "outputs": [
        {
          "output_type": "stream",
          "text": [
            "Model: \"model_9\"\n",
            "__________________________________________________________________________________________________\n",
            "Layer (type)                    Output Shape         Param #     Connected to                     \n",
            "==================================================================================================\n",
            "input_4 (InputLayer)            (None, 96, 96, 1)    0                                            \n",
            "__________________________________________________________________________________________________\n",
            "input_5 (InputLayer)            (None, 96, 96, 1)    0                                            \n",
            "__________________________________________________________________________________________________\n",
            "model_5 (Model)                 (None, 256)          427200      input_4[0][0]                    \n",
            "                                                                 input_5[0][0]                    \n",
            "__________________________________________________________________________________________________\n",
            "lambda_6 (Lambda)               (None, 1)            0           model_5[1][0]                    \n",
            "                                                                 model_5[2][0]                    \n",
            "==================================================================================================\n",
            "Total params: 427,200\n",
            "Trainable params: 426,112\n",
            "Non-trainable params: 1,088\n",
            "__________________________________________________________________________________________________\n"
          ],
          "name": "stdout"
        }
      ]
    },
    {
      "cell_type": "code",
      "metadata": {
        "id": "gt3A5qNBbNHu",
        "colab_type": "code",
        "colab": {}
      },
      "source": [
        "convnet.save(\"/content/drive/My Drive/FACE RECOGNITION TRAINING/siamese_net_con_loss2.h5\")"
      ],
      "execution_count": 0,
      "outputs": []
    },
    {
      "cell_type": "code",
      "metadata": {
        "id": "OROFhqtEbNBG",
        "colab_type": "code",
        "colab": {}
      },
      "source": [
        "convnet.save(\"/content/drive/My Drive/FACE RECOGNITION TRAINING/training_images/siamese_net_con_loss2.h5\")"
      ],
      "execution_count": 0,
      "outputs": []
    },
    {
      "cell_type": "code",
      "metadata": {
        "id": "6Q_RzVTrNPSy",
        "colab_type": "code",
        "outputId": "465fa228-366e-4947-be6f-aa3934679cec",
        "colab": {
          "base_uri": "https://localhost:8080/",
          "height": 35
        }
      },
      "source": [
        "IMAGE_SIZE"
      ],
      "execution_count": 0,
      "outputs": [
        {
          "output_type": "execute_result",
          "data": {
            "text/plain": [
              "96"
            ]
          },
          "metadata": {
            "tags": []
          },
          "execution_count": 73
        }
      ]
    },
    {
      "cell_type": "code",
      "metadata": {
        "id": "lyopOaYfqeJs",
        "colab_type": "code",
        "outputId": "faf1f1c6-f50c-4cee-d615-06d24cba88ae",
        "colab": {
          "base_uri": "https://localhost:8080/",
          "height": 35
        }
      },
      "source": [
        "import face_recognition\n",
        "KNOWN_FACES_DIR = \"known_faces\"\n",
        "MODEL = \"hog\" #cnn\n",
        "\n",
        "print(\"loading known faces\")\n",
        "known_faces = []\n",
        "known_names = []\n",
        "\n",
        "for name in os.listdir(KNOWN_FACES_DIR):\n",
        "\tfor filename in os.listdir(f\"{KNOWN_FACES_DIR}/{name}\"):\n",
        "\t\timage = face_recognition.load_image_file(f\"{KNOWN_FACES_DIR}/{name}/{filename}\")\n",
        "\t\tface_locations = face_recognition.face_locations(image, model=MODEL)\n",
        "\t\tfor top, right, bottom, left in face_locations:\n",
        "\t\t\timage = cv2.resize(np.array(image[top:bottom ,left:right]),(IMAGE_SIZE, IMAGE_SIZE))\n",
        "\t\t\timage = cv2.cvtColor(image, cv2.COLOR_RGB2GRAY) # cv2.COLOR_RGB2GRAY\n",
        "\t\t\timage = np.expand_dims(image, axis=0)\n",
        "\t\t\timage = np.expand_dims(image, axis=-1)\n",
        "\t\t\tencoding = convnet.predict(zscore(image))\t\t\n",
        "\t\tknown_faces.append(encoding)\n",
        "\t\tknown_names.append(name)"
      ],
      "execution_count": 0,
      "outputs": [
        {
          "output_type": "stream",
          "text": [
            "loading known faces\n"
          ],
          "name": "stdout"
        }
      ]
    },
    {
      "cell_type": "code",
      "metadata": {
        "id": "fCBK4yBGr1bG",
        "colab_type": "code",
        "colab": {}
      },
      "source": [
        "def testing():\n",
        "\tprint('testing')\n",
        "\tpositive = 0\n",
        "\tnegetive = 0\n",
        "\ttest_dir = os.listdir('test_images (1)')\n",
        "\tfor name in test_dir:\n",
        "\t\ttest_imgs = os.listdir(f'test_images (1)/{name}')\n",
        "\t\tfor test_img in test_imgs:\n",
        "\t\t\timage = cv2.imread(f'test_images (1)/{name}/{test_img}')\n",
        "\t\t\timage = cv2.resize(image, (IMAGE_SIZE, IMAGE_SIZE))\n",
        "\t\t\timage = cv2.cvtColor(image, cv2.COLOR_RGB2GRAY) # cv2.COLOR_RGB2GRAY\n",
        "\t\t\timage = np.expand_dims(image, axis=0)\n",
        "\t\t\timage = np.expand_dims(image, axis=-1) \n",
        "\t\t\timage = zscore(image)\n",
        "\t\t\tencoding = convnet.predict(image)\n",
        "\t\t\tresults = [np.sqrt(np.sum(np.square(known_faces[i]-encoding))) for i in range(len(known_faces))]\n",
        "\t\t\tmatch = known_names[results.index(min(results))]\n",
        "\t\t\tif(match == name):\n",
        "\t\t\t\tpositive += 1\n",
        "\t\t\telse:\n",
        "\t\t\t\tnegetive += 1\n",
        "\t\t\tprint(f'{name}/{test_img}',match, min(results))\n",
        "\tprint('accuracy :',positive/(positive+negetive))"
      ],
      "execution_count": 0,
      "outputs": []
    },
    {
      "cell_type": "code",
      "metadata": {
        "id": "W9M6419Zsj3G",
        "colab_type": "code",
        "outputId": "bacace74-2e7c-432b-d12e-ea922f4d2fa3",
        "colab": {
          "base_uri": "https://localhost:8080/",
          "height": 1000
        }
      },
      "source": [
        "testing()"
      ],
      "execution_count": 0,
      "outputs": [
        {
          "output_type": "stream",
          "text": [
            "testing\n",
            "sheldon/2.jpg sheldon 0.04143387\n",
            "sheldon/10.jpg sheldon 0.045075834\n",
            "sheldon/9.jpg sheldon 0.06001547\n",
            "sheldon/5.jpg lenord 0.008928537\n",
            "sheldon/8.jpg sheldon 0.10145199\n",
            "sheldon/6.jpg sheldon 0.051815808\n",
            "sheldon/7.jpg sheldon 0.0048609376\n",
            "sheldon/4.jpg sheldon 0.004475832\n",
            "sheldon/1.jpg sheldon 0.07617611\n",
            "sheldon/111.jpg sheldon 0.013005257\n",
            "sheldon/668.jpg raj 0.023373842\n",
            "sheldon/47.jpg sheldon 0.017827272\n",
            "sheldon/109.jpg sheldon 0.10002339\n",
            "sheldon/121.jpg raj 0.0017476082\n",
            "sheldon/161.jpg sheldon 0.013715684\n",
            "sheldon/124.jpg sheldon 0.05472207\n",
            "sheldon/126.jpg sheldon 0.016566277\n",
            "sheldon/127.jpg sheldon 0.004794538\n",
            "penny/23.jpg sheldon 0.0408414\n",
            "penny/21.jpg sheldon 0.0016067624\n",
            "penny/22.jpg raj 0.0018429756\n",
            "penny/25.jpg sheldon 0.03443271\n",
            "penny/27.jpg sheldon 0.0091994405\n",
            "penny/24.jpg penny 0.026329398\n",
            "penny/26.jpg sheldon 0.06922859\n",
            "penny/28.jpg sheldon 0.014107585\n",
            "penny/29.jpg sheldon 0.034373283\n",
            "penny/30.jpg sheldon 0.044508755\n",
            "penny/penny.jpg sheldon 0.04603839\n",
            "penny/755.jpg penny 5.9604645e-06\n",
            "penny/206.jpg sheldon 0.004078865\n",
            "penny/269.jpg sheldon 0.07986295\n",
            "penny/123.jpg penny 0.03280449\n",
            "penny/128.jpg raj 0.009893179\n",
            "penny/129.jpg penny 0.004001856\n",
            "penny/131.jpg lenord 0.0029046535\n",
            "howard/2278.jpg howard 0.0126616955\n",
            "howard/howard.jpg howard 0.014893293\n",
            "howard/6.jpg raj 0.016527891\n",
            "howard/96.jpg howard 0.0047011375\n",
            "howard/135.jpg howard 0.01173687\n",
            "howard/264.jpg howard 0.026155949\n",
            "howard/323.jpg howard 0.10921717\n",
            "howard/584.jpg howard 0.0014595985\n",
            "howard/589.jpg raj 0.02902317\n",
            "howard/18.jpg howard 0.012148142\n",
            "howard/28.jpg raj 0.008149385\n",
            "howard/58.jpg howard 0.025645971\n",
            "lenord/13.jpg lenord 0.0\n",
            "lenord/14.jpg lenord 0.0\n",
            "lenord/11.jpg lenord 0.0\n",
            "lenord/15.jpg lenord 0.0\n",
            "lenord/12.jpg lenord 0.0\n",
            "lenord/17.jpg lenord 0.0\n",
            "lenord/20.jpg lenord 0.0\n",
            "lenord/18.jpg lenord 0.0\n",
            "lenord/19.jpg lenord 0.0\n",
            "lenord/16.jpg lenord 0.0\n",
            "lenord/3.jpg lenord 0.0\n",
            "lenord/307.jpg sheldon 0.061366618\n",
            "lenord/364.jpg lenord 0.0\n",
            "lenord/372.jpg lenord 0.0\n",
            "lenord/130.jpg lenord 0.11422843\n",
            "raj/34.jpg penny 0.02184689\n",
            "raj/32.jpg penny 0.010125518\n",
            "raj/31.jpg raj 0.0003194809\n",
            "raj/33.jpg raj 0.026370287\n",
            "raj/36.jpg lenord 0.018244505\n",
            "raj/35.jpg sheldon 0.044436216\n",
            "raj/38.jpg raj 0.00071048737\n",
            "raj/37.jpg penny 0.007915258\n",
            "raj/40.jpg raj 0.02377057\n",
            "raj/39.jpg raj 0.025067091\n",
            "raj/157.jpg raj 0.010659814\n",
            "raj/17.jpg raj 0.0050058365\n",
            "raj/53.jpg raj 0.011664152\n",
            "raj/57.jpg raj 0.028921604\n",
            "accuracy : 0.6623376623376623\n"
          ],
          "name": "stdout"
        }
      ]
    },
    {
      "cell_type": "code",
      "metadata": {
        "id": "td5qFK3St4Cc",
        "colab_type": "code",
        "colab": {}
      },
      "source": [
        ""
      ],
      "execution_count": 0,
      "outputs": []
    },
    {
      "cell_type": "code",
      "metadata": {
        "id": "VGiH9zM0cl2T",
        "colab_type": "code",
        "colab": {}
      },
      "source": [
        ""
      ],
      "execution_count": 0,
      "outputs": []
    },
    {
      "cell_type": "code",
      "metadata": {
        "id": "2VokdTRzdFj_",
        "colab_type": "code",
        "colab": {}
      },
      "source": [
        "# https://keras.io/examples/mnist_siamese/\n",
        "# https://jdhao.github.io/2017/03/13/some_loss_and_explanations/\n",
        "# https://vitalab.github.io/article/2019/05/15/contrastiveLoss.html"
      ],
      "execution_count": 0,
      "outputs": []
    },
    {
      "cell_type": "code",
      "metadata": {
        "id": "v7u4-IKFlamO",
        "colab_type": "code",
        "colab": {}
      },
      "source": [
        ""
      ],
      "execution_count": 0,
      "outputs": []
    }
  ]
}